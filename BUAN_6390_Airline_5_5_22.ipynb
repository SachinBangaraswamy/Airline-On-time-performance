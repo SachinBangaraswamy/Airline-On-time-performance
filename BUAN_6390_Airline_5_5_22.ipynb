{
  "nbformat": 4,
  "nbformat_minor": 0,
  "metadata": {
    "colab": {
      "name": "BUAN_6390_Airline_5/5/22.ipynb",
      "provenance": [],
      "collapsed_sections": [],
      "toc_visible": true
    },
    "kernelspec": {
      "name": "python3",
      "display_name": "Python 3"
    },
    "language_info": {
      "name": "python"
    }
  },
  "cells": [
    {
      "cell_type": "markdown",
      "source": [
        "## **Objective:** To determine if the performance of an Airline depends on expenditure towards a Pilot or Aircraft maintenance\n",
        "\n"
      ],
      "metadata": {
        "id": "-b7VLqpq1a7H"
      }
    },
    {
      "cell_type": "markdown",
      "source": [
        "### Tasks:\n",
        "1. Calculate CASM for Pilot & Maintenance\n",
        "2. Merge CASM data by airline and Year: X in airline groups & year\n",
        "3. Merge OTP by airline and Year: no of flights, no of delays, % of delay \n",
        "4. Model: X - CASM by airline group & by Year\n",
        "Y - % of delay"
      ],
      "metadata": {
        "id": "7FTRuKxJ1n1N"
      }
    },
    {
      "cell_type": "markdown",
      "source": [
        "## Import libraries"
      ],
      "metadata": {
        "id": "xBVtq7SAymYN"
      }
    },
    {
      "cell_type": "code",
      "source": [
        "#Import libraries\n",
        "import pandas as pd\n",
        "import re\n",
        "from pathlib import Path\n",
        "import numpy as np\n",
        "import matplotlib.pyplot as plt\n",
        "import seaborn as sns"
      ],
      "metadata": {
        "id": "Adjj2IOQHwl8"
      },
      "execution_count": null,
      "outputs": []
    },
    {
      "cell_type": "code",
      "source": [
        "!pip install linearmodels"
      ],
      "metadata": {
        "colab": {
          "base_uri": "https://localhost:8080/"
        },
        "id": "egLIMLk5UOwT",
        "outputId": "9527c38a-a4a7-4713-e46f-738e7dacb63b"
      },
      "execution_count": null,
      "outputs": [
        {
          "output_type": "stream",
          "name": "stdout",
          "text": [
            "Requirement already satisfied: linearmodels in /usr/local/lib/python3.7/dist-packages (4.25)\n",
            "Requirement already satisfied: property-cached>=1.6.3 in /usr/local/lib/python3.7/dist-packages (from linearmodels) (1.6.4)\n",
            "Requirement already satisfied: Cython>=0.29.21 in /usr/local/lib/python3.7/dist-packages (from linearmodels) (0.29.28)\n",
            "Requirement already satisfied: mypy-extensions>=0.4 in /usr/local/lib/python3.7/dist-packages (from linearmodels) (0.4.3)\n",
            "Requirement already satisfied: formulaic in /usr/local/lib/python3.7/dist-packages (from linearmodels) (0.3.4)\n",
            "Requirement already satisfied: numpy>=1.16 in /usr/local/lib/python3.7/dist-packages (from linearmodels) (1.21.6)\n",
            "Requirement already satisfied: scipy>=1.2 in /usr/local/lib/python3.7/dist-packages (from linearmodels) (1.7.3)\n",
            "Requirement already satisfied: statsmodels>=0.11 in /usr/local/lib/python3.7/dist-packages (from linearmodels) (0.13.2)\n",
            "Requirement already satisfied: patsy in /usr/local/lib/python3.7/dist-packages (from linearmodels) (0.5.2)\n",
            "Requirement already satisfied: pandas>=0.24 in /usr/local/lib/python3.7/dist-packages (from linearmodels) (1.3.5)\n",
            "Requirement already satisfied: pyhdfe>=0.1 in /usr/local/lib/python3.7/dist-packages (from linearmodels) (0.1.0)\n",
            "Requirement already satisfied: python-dateutil>=2.7.3 in /usr/local/lib/python3.7/dist-packages (from pandas>=0.24->linearmodels) (2.8.2)\n",
            "Requirement already satisfied: pytz>=2017.3 in /usr/local/lib/python3.7/dist-packages (from pandas>=0.24->linearmodels) (2022.1)\n",
            "Requirement already satisfied: six>=1.5 in /usr/local/lib/python3.7/dist-packages (from python-dateutil>=2.7.3->pandas>=0.24->linearmodels) (1.15.0)\n",
            "Requirement already satisfied: packaging>=21.3 in /usr/local/lib/python3.7/dist-packages (from statsmodels>=0.11->linearmodels) (21.3)\n",
            "Requirement already satisfied: pyparsing!=3.0.5,>=2.0.2 in /usr/local/lib/python3.7/dist-packages (from packaging>=21.3->statsmodels>=0.11->linearmodels) (3.0.8)\n",
            "Requirement already satisfied: interface-meta<2.0.0,>=1.2.0 in /usr/local/lib/python3.7/dist-packages (from formulaic->linearmodels) (1.3.0)\n",
            "Requirement already satisfied: astor>=0.8 in /usr/local/lib/python3.7/dist-packages (from formulaic->linearmodels) (0.8.1)\n",
            "Requirement already satisfied: wrapt>=1.0 in /usr/local/lib/python3.7/dist-packages (from formulaic->linearmodels) (1.14.0)\n"
          ]
        }
      ]
    },
    {
      "cell_type": "code",
      "source": [
        "from google.colab import drive\n",
        "drive.mount(\"/content/drive\")"
      ],
      "metadata": {
        "colab": {
          "base_uri": "https://localhost:8080/"
        },
        "id": "3ibVhlc1zbEX",
        "outputId": "15aa1459-e4a1-4777-ea90-bae59d49ac57"
      },
      "execution_count": null,
      "outputs": [
        {
          "output_type": "stream",
          "name": "stdout",
          "text": [
            "Drive already mounted at /content/drive; to attempt to forcibly remount, call drive.mount(\"/content/drive\", force_remount=True).\n"
          ]
        }
      ]
    },
    {
      "cell_type": "markdown",
      "source": [
        "#Curate"
      ],
      "metadata": {
        "id": "L4G1_73ywG_T"
      }
    },
    {
      "cell_type": "markdown",
      "source": [
        "### Load Data"
      ],
      "metadata": {
        "id": "Rkq2dinIDOP-"
      }
    },
    {
      "cell_type": "code",
      "source": [
        "#Create data folder in drive\n",
        "datafolder = Path(\"/content/drive/My Drive/Airline_Project\")\n",
        "\n",
        "#Read data for all airlines\n",
        "xls = pd.ExcelFile(datafolder/\"Airline_data.xlsx\")\n",
        "AA = pd.read_excel(xls, \"AA\")\n",
        "Delta = pd.read_excel(xls, \"Delta\")\n",
        "United = pd.read_excel(xls, \"United\")\n",
        "Southwest = pd.read_excel(xls, \"Southwest\")\n",
        "Alaska = pd.read_excel(xls, \"Alaska\")"
      ],
      "metadata": {
        "id": "p_JI9UXVz7H3"
      },
      "execution_count": null,
      "outputs": []
    },
    {
      "cell_type": "code",
      "source": [
        "AA.head()"
      ],
      "metadata": {
        "colab": {
          "base_uri": "https://localhost:8080/",
          "height": 391
        },
        "id": "6GnWj2kK0WA5",
        "outputId": "30f134c9-c921-468a-8c73-d4a38881d9c6"
      },
      "execution_count": null,
      "outputs": [
        {
          "output_type": "execute_result",
          "data": {
            "text/plain": [
              "                         Unnamed: 0     1995     1996     1997     1998  \\\n",
              "0                Small Narrowbodies  2727395  2922682  3236620  3139328   \n",
              "1                      Pilots (000)   831685   809613   947192   999080   \n",
              "2          Salaries and Wages (000)   585946   576560   650721   673778   \n",
              "3              Pilot Training (000)    19691    20225    58176    70075   \n",
              "4  Benefits and Payroll Taxes (000)   187623   174610   192649   203955   \n",
              "\n",
              "      1999     2000     2001     2002     2003  ...     2010     2011  \\\n",
              "0  3133640  3671099  3551245  3857271  3423375  ...  3306264  3511299   \n",
              "1  1015762  1098588  1003004  1102619  1062592  ...   591890   533322   \n",
              "2   659608   705398   631069   697937   692430  ...   370480   329631   \n",
              "3    89022   100160    97304    77463    30422  ...    18742    18385   \n",
              "4   204684   226511   216527   274305   294075  ...   174150   158108   \n",
              "\n",
              "      2012     2013     2014     2015     2016     2017     2018 Unnamed: 25  \n",
              "0  2956391  2580490  2365103  3331281  2576865  2533027  2875482         NaN  \n",
              "1   410575   382803   400297   738633   649094   606650   631461         NaN  \n",
              "2   273849   267706   279599   511416   468359   432063   443201         NaN  \n",
              "3    15746    15868    16967    30928    27672    26710    27251         NaN  \n",
              "4    97776    76661    80288   158345   122166   117379   126951         NaN  \n",
              "\n",
              "[5 rows x 26 columns]"
            ],
            "text/html": [
              "\n",
              "  <div id=\"df-c09a1ce3-bbeb-47bb-9947-06634ccbcb58\">\n",
              "    <div class=\"colab-df-container\">\n",
              "      <div>\n",
              "<style scoped>\n",
              "    .dataframe tbody tr th:only-of-type {\n",
              "        vertical-align: middle;\n",
              "    }\n",
              "\n",
              "    .dataframe tbody tr th {\n",
              "        vertical-align: top;\n",
              "    }\n",
              "\n",
              "    .dataframe thead th {\n",
              "        text-align: right;\n",
              "    }\n",
              "</style>\n",
              "<table border=\"1\" class=\"dataframe\">\n",
              "  <thead>\n",
              "    <tr style=\"text-align: right;\">\n",
              "      <th></th>\n",
              "      <th>Unnamed: 0</th>\n",
              "      <th>1995</th>\n",
              "      <th>1996</th>\n",
              "      <th>1997</th>\n",
              "      <th>1998</th>\n",
              "      <th>1999</th>\n",
              "      <th>2000</th>\n",
              "      <th>2001</th>\n",
              "      <th>2002</th>\n",
              "      <th>2003</th>\n",
              "      <th>...</th>\n",
              "      <th>2010</th>\n",
              "      <th>2011</th>\n",
              "      <th>2012</th>\n",
              "      <th>2013</th>\n",
              "      <th>2014</th>\n",
              "      <th>2015</th>\n",
              "      <th>2016</th>\n",
              "      <th>2017</th>\n",
              "      <th>2018</th>\n",
              "      <th>Unnamed: 25</th>\n",
              "    </tr>\n",
              "  </thead>\n",
              "  <tbody>\n",
              "    <tr>\n",
              "      <th>0</th>\n",
              "      <td>Small Narrowbodies</td>\n",
              "      <td>2727395</td>\n",
              "      <td>2922682</td>\n",
              "      <td>3236620</td>\n",
              "      <td>3139328</td>\n",
              "      <td>3133640</td>\n",
              "      <td>3671099</td>\n",
              "      <td>3551245</td>\n",
              "      <td>3857271</td>\n",
              "      <td>3423375</td>\n",
              "      <td>...</td>\n",
              "      <td>3306264</td>\n",
              "      <td>3511299</td>\n",
              "      <td>2956391</td>\n",
              "      <td>2580490</td>\n",
              "      <td>2365103</td>\n",
              "      <td>3331281</td>\n",
              "      <td>2576865</td>\n",
              "      <td>2533027</td>\n",
              "      <td>2875482</td>\n",
              "      <td>NaN</td>\n",
              "    </tr>\n",
              "    <tr>\n",
              "      <th>1</th>\n",
              "      <td>Pilots (000)</td>\n",
              "      <td>831685</td>\n",
              "      <td>809613</td>\n",
              "      <td>947192</td>\n",
              "      <td>999080</td>\n",
              "      <td>1015762</td>\n",
              "      <td>1098588</td>\n",
              "      <td>1003004</td>\n",
              "      <td>1102619</td>\n",
              "      <td>1062592</td>\n",
              "      <td>...</td>\n",
              "      <td>591890</td>\n",
              "      <td>533322</td>\n",
              "      <td>410575</td>\n",
              "      <td>382803</td>\n",
              "      <td>400297</td>\n",
              "      <td>738633</td>\n",
              "      <td>649094</td>\n",
              "      <td>606650</td>\n",
              "      <td>631461</td>\n",
              "      <td>NaN</td>\n",
              "    </tr>\n",
              "    <tr>\n",
              "      <th>2</th>\n",
              "      <td>Salaries and Wages (000)</td>\n",
              "      <td>585946</td>\n",
              "      <td>576560</td>\n",
              "      <td>650721</td>\n",
              "      <td>673778</td>\n",
              "      <td>659608</td>\n",
              "      <td>705398</td>\n",
              "      <td>631069</td>\n",
              "      <td>697937</td>\n",
              "      <td>692430</td>\n",
              "      <td>...</td>\n",
              "      <td>370480</td>\n",
              "      <td>329631</td>\n",
              "      <td>273849</td>\n",
              "      <td>267706</td>\n",
              "      <td>279599</td>\n",
              "      <td>511416</td>\n",
              "      <td>468359</td>\n",
              "      <td>432063</td>\n",
              "      <td>443201</td>\n",
              "      <td>NaN</td>\n",
              "    </tr>\n",
              "    <tr>\n",
              "      <th>3</th>\n",
              "      <td>Pilot Training (000)</td>\n",
              "      <td>19691</td>\n",
              "      <td>20225</td>\n",
              "      <td>58176</td>\n",
              "      <td>70075</td>\n",
              "      <td>89022</td>\n",
              "      <td>100160</td>\n",
              "      <td>97304</td>\n",
              "      <td>77463</td>\n",
              "      <td>30422</td>\n",
              "      <td>...</td>\n",
              "      <td>18742</td>\n",
              "      <td>18385</td>\n",
              "      <td>15746</td>\n",
              "      <td>15868</td>\n",
              "      <td>16967</td>\n",
              "      <td>30928</td>\n",
              "      <td>27672</td>\n",
              "      <td>26710</td>\n",
              "      <td>27251</td>\n",
              "      <td>NaN</td>\n",
              "    </tr>\n",
              "    <tr>\n",
              "      <th>4</th>\n",
              "      <td>Benefits and Payroll Taxes (000)</td>\n",
              "      <td>187623</td>\n",
              "      <td>174610</td>\n",
              "      <td>192649</td>\n",
              "      <td>203955</td>\n",
              "      <td>204684</td>\n",
              "      <td>226511</td>\n",
              "      <td>216527</td>\n",
              "      <td>274305</td>\n",
              "      <td>294075</td>\n",
              "      <td>...</td>\n",
              "      <td>174150</td>\n",
              "      <td>158108</td>\n",
              "      <td>97776</td>\n",
              "      <td>76661</td>\n",
              "      <td>80288</td>\n",
              "      <td>158345</td>\n",
              "      <td>122166</td>\n",
              "      <td>117379</td>\n",
              "      <td>126951</td>\n",
              "      <td>NaN</td>\n",
              "    </tr>\n",
              "  </tbody>\n",
              "</table>\n",
              "<p>5 rows × 26 columns</p>\n",
              "</div>\n",
              "      <button class=\"colab-df-convert\" onclick=\"convertToInteractive('df-c09a1ce3-bbeb-47bb-9947-06634ccbcb58')\"\n",
              "              title=\"Convert this dataframe to an interactive table.\"\n",
              "              style=\"display:none;\">\n",
              "        \n",
              "  <svg xmlns=\"http://www.w3.org/2000/svg\" height=\"24px\"viewBox=\"0 0 24 24\"\n",
              "       width=\"24px\">\n",
              "    <path d=\"M0 0h24v24H0V0z\" fill=\"none\"/>\n",
              "    <path d=\"M18.56 5.44l.94 2.06.94-2.06 2.06-.94-2.06-.94-.94-2.06-.94 2.06-2.06.94zm-11 1L8.5 8.5l.94-2.06 2.06-.94-2.06-.94L8.5 2.5l-.94 2.06-2.06.94zm10 10l.94 2.06.94-2.06 2.06-.94-2.06-.94-.94-2.06-.94 2.06-2.06.94z\"/><path d=\"M17.41 7.96l-1.37-1.37c-.4-.4-.92-.59-1.43-.59-.52 0-1.04.2-1.43.59L10.3 9.45l-7.72 7.72c-.78.78-.78 2.05 0 2.83L4 21.41c.39.39.9.59 1.41.59.51 0 1.02-.2 1.41-.59l7.78-7.78 2.81-2.81c.8-.78.8-2.07 0-2.86zM5.41 20L4 18.59l7.72-7.72 1.47 1.35L5.41 20z\"/>\n",
              "  </svg>\n",
              "      </button>\n",
              "      \n",
              "  <style>\n",
              "    .colab-df-container {\n",
              "      display:flex;\n",
              "      flex-wrap:wrap;\n",
              "      gap: 12px;\n",
              "    }\n",
              "\n",
              "    .colab-df-convert {\n",
              "      background-color: #E8F0FE;\n",
              "      border: none;\n",
              "      border-radius: 50%;\n",
              "      cursor: pointer;\n",
              "      display: none;\n",
              "      fill: #1967D2;\n",
              "      height: 32px;\n",
              "      padding: 0 0 0 0;\n",
              "      width: 32px;\n",
              "    }\n",
              "\n",
              "    .colab-df-convert:hover {\n",
              "      background-color: #E2EBFA;\n",
              "      box-shadow: 0px 1px 2px rgba(60, 64, 67, 0.3), 0px 1px 3px 1px rgba(60, 64, 67, 0.15);\n",
              "      fill: #174EA6;\n",
              "    }\n",
              "\n",
              "    [theme=dark] .colab-df-convert {\n",
              "      background-color: #3B4455;\n",
              "      fill: #D2E3FC;\n",
              "    }\n",
              "\n",
              "    [theme=dark] .colab-df-convert:hover {\n",
              "      background-color: #434B5C;\n",
              "      box-shadow: 0px 1px 3px 1px rgba(0, 0, 0, 0.15);\n",
              "      filter: drop-shadow(0px 1px 2px rgba(0, 0, 0, 0.3));\n",
              "      fill: #FFFFFF;\n",
              "    }\n",
              "  </style>\n",
              "\n",
              "      <script>\n",
              "        const buttonEl =\n",
              "          document.querySelector('#df-c09a1ce3-bbeb-47bb-9947-06634ccbcb58 button.colab-df-convert');\n",
              "        buttonEl.style.display =\n",
              "          google.colab.kernel.accessAllowed ? 'block' : 'none';\n",
              "\n",
              "        async function convertToInteractive(key) {\n",
              "          const element = document.querySelector('#df-c09a1ce3-bbeb-47bb-9947-06634ccbcb58');\n",
              "          const dataTable =\n",
              "            await google.colab.kernel.invokeFunction('convertToInteractive',\n",
              "                                                     [key], {});\n",
              "          if (!dataTable) return;\n",
              "\n",
              "          const docLinkHtml = 'Like what you see? Visit the ' +\n",
              "            '<a target=\"_blank\" href=https://colab.research.google.com/notebooks/data_table.ipynb>data table notebook</a>'\n",
              "            + ' to learn more about interactive tables.';\n",
              "          element.innerHTML = '';\n",
              "          dataTable['output_type'] = 'display_data';\n",
              "          await google.colab.output.renderOutput(dataTable, element);\n",
              "          const docLink = document.createElement('div');\n",
              "          docLink.innerHTML = docLinkHtml;\n",
              "          element.appendChild(docLink);\n",
              "        }\n",
              "      </script>\n",
              "    </div>\n",
              "  </div>\n",
              "  "
            ]
          },
          "metadata": {},
          "execution_count": 5
        }
      ]
    },
    {
      "cell_type": "code",
      "source": [
        "AA.columns"
      ],
      "metadata": {
        "colab": {
          "base_uri": "https://localhost:8080/"
        },
        "id": "I11Jay2LaEl3",
        "outputId": "a3578853-47b0-46f9-9376-5e2e785e37b7"
      },
      "execution_count": null,
      "outputs": [
        {
          "output_type": "execute_result",
          "data": {
            "text/plain": [
              "Index([ 'Unnamed: 0',          1995,          1996,          1997,\n",
              "                1998,          1999,          2000,          2001,\n",
              "                2002,          2003,          2004,          2005,\n",
              "                2006,          2007,          2008,          2009,\n",
              "                2010,          2011,          2012,          2013,\n",
              "                2014,          2015,          2016,          2017,\n",
              "                2018, 'Unnamed: 25'],\n",
              "      dtype='object')"
            ]
          },
          "metadata": {},
          "execution_count": 6
        }
      ]
    },
    {
      "cell_type": "markdown",
      "source": [
        "### Clean cost data"
      ],
      "metadata": {
        "id": "53DkP1e4DS4M"
      }
    },
    {
      "cell_type": "code",
      "source": [
        "Year = list(np.arange(2003,2019))"
      ],
      "metadata": {
        "id": "oaPv7pg2zwmP"
      },
      "execution_count": null,
      "outputs": []
    },
    {
      "cell_type": "code",
      "source": [
        "def cleaned_df(df):\n",
        "  df = df.iloc[:,[0,9,10,11,12,13,14,15,16,17,18,19,20,21,22,23,24]]\n",
        "  df = df.iloc[[118,127,152]]\n",
        "  df.rename(columns={'Unnamed: 0': 'Year'},inplace=True)\n",
        "  df['Year'] = df['Year'].replace(['Pilots (000)','Maintenance (000)'],['TotalFleet_Pilot', 'TotalFleet_Maintenance'])\n",
        "  df = df.transpose()\n",
        "  df = df.rename(columns=df.iloc[0])\n",
        "  df = df[1:]\n",
        "  df['Year'] = Year\n",
        "  df['CASM_Pilot'] = df['TotalFleet_Pilot']/df['ASMs']*10000 ## For better visualization\n",
        "  df['CASM_Maintenance'] = df['TotalFleet_Maintenance']/df['ASMs']*10000 ## For better visualization\n",
        "  df=df.drop(columns=['TotalFleet_Pilot',\"TotalFleet_Maintenance\", 'ASMs']\t )\n",
        "  \n",
        "  return(df)\n",
        "\n"
      ],
      "metadata": {
        "id": "lX6WEbN52ibi"
      },
      "execution_count": null,
      "outputs": []
    },
    {
      "cell_type": "code",
      "source": [
        "AA_cleaned = cleaned_df(AA)\n",
        "AA_cleaned"
      ],
      "metadata": {
        "colab": {
          "base_uri": "https://localhost:8080/",
          "height": 527
        },
        "id": "lt9dZSvx4Zy_",
        "outputId": "caa674c0-841d-42ea-81f2-b89a35fe0e78"
      },
      "execution_count": null,
      "outputs": [
        {
          "output_type": "execute_result",
          "data": {
            "text/plain": [
              "      Year CASM_Pilot CASM_Maintenance\n",
              "2003  2003   0.131159         0.111647\n",
              "2004  2004   0.115382         0.107411\n",
              "2005  2005   0.111425         0.108127\n",
              "2006  2006   0.109647           0.1136\n",
              "2007  2007   0.110759         0.115467\n",
              "2008  2008    0.11155         0.133682\n",
              "2009  2009   0.115964         0.146717\n",
              "2010  2010   0.115705         0.151694\n",
              "2011  2011   0.117865          0.15133\n",
              "2012  2012    0.10692          0.15049\n",
              "2013  2013   0.107592         0.145717\n",
              "2014  2014   0.118226          0.15112\n",
              "2015  2015   0.150284         0.141869\n",
              "2016  2016   0.159821         0.143163\n",
              "2017  2017   0.173981         0.151699\n",
              "2018  2018   0.179493         0.153684"
            ],
            "text/html": [
              "\n",
              "  <div id=\"df-bd440528-f71c-42e2-bf62-56cf24f04d4e\">\n",
              "    <div class=\"colab-df-container\">\n",
              "      <div>\n",
              "<style scoped>\n",
              "    .dataframe tbody tr th:only-of-type {\n",
              "        vertical-align: middle;\n",
              "    }\n",
              "\n",
              "    .dataframe tbody tr th {\n",
              "        vertical-align: top;\n",
              "    }\n",
              "\n",
              "    .dataframe thead th {\n",
              "        text-align: right;\n",
              "    }\n",
              "</style>\n",
              "<table border=\"1\" class=\"dataframe\">\n",
              "  <thead>\n",
              "    <tr style=\"text-align: right;\">\n",
              "      <th></th>\n",
              "      <th>Year</th>\n",
              "      <th>CASM_Pilot</th>\n",
              "      <th>CASM_Maintenance</th>\n",
              "    </tr>\n",
              "  </thead>\n",
              "  <tbody>\n",
              "    <tr>\n",
              "      <th>2003</th>\n",
              "      <td>2003</td>\n",
              "      <td>0.131159</td>\n",
              "      <td>0.111647</td>\n",
              "    </tr>\n",
              "    <tr>\n",
              "      <th>2004</th>\n",
              "      <td>2004</td>\n",
              "      <td>0.115382</td>\n",
              "      <td>0.107411</td>\n",
              "    </tr>\n",
              "    <tr>\n",
              "      <th>2005</th>\n",
              "      <td>2005</td>\n",
              "      <td>0.111425</td>\n",
              "      <td>0.108127</td>\n",
              "    </tr>\n",
              "    <tr>\n",
              "      <th>2006</th>\n",
              "      <td>2006</td>\n",
              "      <td>0.109647</td>\n",
              "      <td>0.1136</td>\n",
              "    </tr>\n",
              "    <tr>\n",
              "      <th>2007</th>\n",
              "      <td>2007</td>\n",
              "      <td>0.110759</td>\n",
              "      <td>0.115467</td>\n",
              "    </tr>\n",
              "    <tr>\n",
              "      <th>2008</th>\n",
              "      <td>2008</td>\n",
              "      <td>0.11155</td>\n",
              "      <td>0.133682</td>\n",
              "    </tr>\n",
              "    <tr>\n",
              "      <th>2009</th>\n",
              "      <td>2009</td>\n",
              "      <td>0.115964</td>\n",
              "      <td>0.146717</td>\n",
              "    </tr>\n",
              "    <tr>\n",
              "      <th>2010</th>\n",
              "      <td>2010</td>\n",
              "      <td>0.115705</td>\n",
              "      <td>0.151694</td>\n",
              "    </tr>\n",
              "    <tr>\n",
              "      <th>2011</th>\n",
              "      <td>2011</td>\n",
              "      <td>0.117865</td>\n",
              "      <td>0.15133</td>\n",
              "    </tr>\n",
              "    <tr>\n",
              "      <th>2012</th>\n",
              "      <td>2012</td>\n",
              "      <td>0.10692</td>\n",
              "      <td>0.15049</td>\n",
              "    </tr>\n",
              "    <tr>\n",
              "      <th>2013</th>\n",
              "      <td>2013</td>\n",
              "      <td>0.107592</td>\n",
              "      <td>0.145717</td>\n",
              "    </tr>\n",
              "    <tr>\n",
              "      <th>2014</th>\n",
              "      <td>2014</td>\n",
              "      <td>0.118226</td>\n",
              "      <td>0.15112</td>\n",
              "    </tr>\n",
              "    <tr>\n",
              "      <th>2015</th>\n",
              "      <td>2015</td>\n",
              "      <td>0.150284</td>\n",
              "      <td>0.141869</td>\n",
              "    </tr>\n",
              "    <tr>\n",
              "      <th>2016</th>\n",
              "      <td>2016</td>\n",
              "      <td>0.159821</td>\n",
              "      <td>0.143163</td>\n",
              "    </tr>\n",
              "    <tr>\n",
              "      <th>2017</th>\n",
              "      <td>2017</td>\n",
              "      <td>0.173981</td>\n",
              "      <td>0.151699</td>\n",
              "    </tr>\n",
              "    <tr>\n",
              "      <th>2018</th>\n",
              "      <td>2018</td>\n",
              "      <td>0.179493</td>\n",
              "      <td>0.153684</td>\n",
              "    </tr>\n",
              "  </tbody>\n",
              "</table>\n",
              "</div>\n",
              "      <button class=\"colab-df-convert\" onclick=\"convertToInteractive('df-bd440528-f71c-42e2-bf62-56cf24f04d4e')\"\n",
              "              title=\"Convert this dataframe to an interactive table.\"\n",
              "              style=\"display:none;\">\n",
              "        \n",
              "  <svg xmlns=\"http://www.w3.org/2000/svg\" height=\"24px\"viewBox=\"0 0 24 24\"\n",
              "       width=\"24px\">\n",
              "    <path d=\"M0 0h24v24H0V0z\" fill=\"none\"/>\n",
              "    <path d=\"M18.56 5.44l.94 2.06.94-2.06 2.06-.94-2.06-.94-.94-2.06-.94 2.06-2.06.94zm-11 1L8.5 8.5l.94-2.06 2.06-.94-2.06-.94L8.5 2.5l-.94 2.06-2.06.94zm10 10l.94 2.06.94-2.06 2.06-.94-2.06-.94-.94-2.06-.94 2.06-2.06.94z\"/><path d=\"M17.41 7.96l-1.37-1.37c-.4-.4-.92-.59-1.43-.59-.52 0-1.04.2-1.43.59L10.3 9.45l-7.72 7.72c-.78.78-.78 2.05 0 2.83L4 21.41c.39.39.9.59 1.41.59.51 0 1.02-.2 1.41-.59l7.78-7.78 2.81-2.81c.8-.78.8-2.07 0-2.86zM5.41 20L4 18.59l7.72-7.72 1.47 1.35L5.41 20z\"/>\n",
              "  </svg>\n",
              "      </button>\n",
              "      \n",
              "  <style>\n",
              "    .colab-df-container {\n",
              "      display:flex;\n",
              "      flex-wrap:wrap;\n",
              "      gap: 12px;\n",
              "    }\n",
              "\n",
              "    .colab-df-convert {\n",
              "      background-color: #E8F0FE;\n",
              "      border: none;\n",
              "      border-radius: 50%;\n",
              "      cursor: pointer;\n",
              "      display: none;\n",
              "      fill: #1967D2;\n",
              "      height: 32px;\n",
              "      padding: 0 0 0 0;\n",
              "      width: 32px;\n",
              "    }\n",
              "\n",
              "    .colab-df-convert:hover {\n",
              "      background-color: #E2EBFA;\n",
              "      box-shadow: 0px 1px 2px rgba(60, 64, 67, 0.3), 0px 1px 3px 1px rgba(60, 64, 67, 0.15);\n",
              "      fill: #174EA6;\n",
              "    }\n",
              "\n",
              "    [theme=dark] .colab-df-convert {\n",
              "      background-color: #3B4455;\n",
              "      fill: #D2E3FC;\n",
              "    }\n",
              "\n",
              "    [theme=dark] .colab-df-convert:hover {\n",
              "      background-color: #434B5C;\n",
              "      box-shadow: 0px 1px 3px 1px rgba(0, 0, 0, 0.15);\n",
              "      filter: drop-shadow(0px 1px 2px rgba(0, 0, 0, 0.3));\n",
              "      fill: #FFFFFF;\n",
              "    }\n",
              "  </style>\n",
              "\n",
              "      <script>\n",
              "        const buttonEl =\n",
              "          document.querySelector('#df-bd440528-f71c-42e2-bf62-56cf24f04d4e button.colab-df-convert');\n",
              "        buttonEl.style.display =\n",
              "          google.colab.kernel.accessAllowed ? 'block' : 'none';\n",
              "\n",
              "        async function convertToInteractive(key) {\n",
              "          const element = document.querySelector('#df-bd440528-f71c-42e2-bf62-56cf24f04d4e');\n",
              "          const dataTable =\n",
              "            await google.colab.kernel.invokeFunction('convertToInteractive',\n",
              "                                                     [key], {});\n",
              "          if (!dataTable) return;\n",
              "\n",
              "          const docLinkHtml = 'Like what you see? Visit the ' +\n",
              "            '<a target=\"_blank\" href=https://colab.research.google.com/notebooks/data_table.ipynb>data table notebook</a>'\n",
              "            + ' to learn more about interactive tables.';\n",
              "          element.innerHTML = '';\n",
              "          dataTable['output_type'] = 'display_data';\n",
              "          await google.colab.output.renderOutput(dataTable, element);\n",
              "          const docLink = document.createElement('div');\n",
              "          docLink.innerHTML = docLinkHtml;\n",
              "          element.appendChild(docLink);\n",
              "        }\n",
              "      </script>\n",
              "    </div>\n",
              "  </div>\n",
              "  "
            ]
          },
          "metadata": {},
          "execution_count": 9
        }
      ]
    },
    {
      "cell_type": "code",
      "source": [
        "type(AA_cleaned['CASM_Pilot'])"
      ],
      "metadata": {
        "colab": {
          "base_uri": "https://localhost:8080/"
        },
        "id": "xSyR63B1BY9d",
        "outputId": "fbf22f04-71ee-4d11-ccb5-1c45f9a198ea"
      },
      "execution_count": null,
      "outputs": [
        {
          "output_type": "execute_result",
          "data": {
            "text/plain": [
              "pandas.core.series.Series"
            ]
          },
          "metadata": {},
          "execution_count": 10
        }
      ]
    },
    {
      "cell_type": "code",
      "source": [
        "Delta_cleaned = cleaned_df(Delta)\n",
        "United_cleaned = cleaned_df(United)\n",
        "Southwest_cleaned = cleaned_df(Southwest)\n",
        "Alaska_cleaned = cleaned_df(Alaska)"
      ],
      "metadata": {
        "id": "YH5CF3078bX3"
      },
      "execution_count": null,
      "outputs": []
    },
    {
      "cell_type": "code",
      "source": [
        "AA_cleaned['airline']= 'american_airline'\n",
        "Delta_cleaned['airline']= 'delta'\n",
        "United_cleaned['airline']= 'united'\n",
        "Southwest_cleaned['airline']= 'southwest'\n",
        "Alaska_cleaned['airline']= 'alaska'"
      ],
      "metadata": {
        "id": "fU-kflEx8rJM"
      },
      "execution_count": null,
      "outputs": []
    },
    {
      "cell_type": "markdown",
      "source": [
        "### Calculate CASM & Merge data"
      ],
      "metadata": {
        "id": "5sZmIN8PFdQr"
      }
    },
    {
      "cell_type": "code",
      "source": [
        "df = pd.concat([AA_cleaned, Delta_cleaned, United_cleaned, Southwest_cleaned, Alaska_cleaned])"
      ],
      "metadata": {
        "id": "q4ZDR4Lf9X2D"
      },
      "execution_count": null,
      "outputs": []
    },
    {
      "cell_type": "code",
      "source": [
        "df"
      ],
      "metadata": {
        "colab": {
          "base_uri": "https://localhost:8080/",
          "height": 406
        },
        "id": "qrD2BOofDeje",
        "outputId": "14950b1e-a6e9-451d-e3b3-c76801697004"
      },
      "execution_count": null,
      "outputs": [
        {
          "output_type": "execute_result",
          "data": {
            "text/plain": [
              "      Year CASM_Pilot CASM_Maintenance           airline\n",
              "2003  2003   0.131159         0.111647  american_airline\n",
              "2004  2004   0.115382         0.107411  american_airline\n",
              "2005  2005   0.111425         0.108127  american_airline\n",
              "2006  2006   0.109647           0.1136  american_airline\n",
              "2007  2007   0.110759         0.115467  american_airline\n",
              "...    ...        ...              ...               ...\n",
              "2014  2014   0.124973         0.086864            alaska\n",
              "2015  2015   0.121211          0.08328            alaska\n",
              "2016  2016   0.118463         0.078966            alaska\n",
              "2017  2017   0.128524          0.08809            alaska\n",
              "2018  2018    0.14253         0.095232            alaska\n",
              "\n",
              "[80 rows x 4 columns]"
            ],
            "text/html": [
              "\n",
              "  <div id=\"df-129b3132-eeeb-4fa4-be05-010a29178219\">\n",
              "    <div class=\"colab-df-container\">\n",
              "      <div>\n",
              "<style scoped>\n",
              "    .dataframe tbody tr th:only-of-type {\n",
              "        vertical-align: middle;\n",
              "    }\n",
              "\n",
              "    .dataframe tbody tr th {\n",
              "        vertical-align: top;\n",
              "    }\n",
              "\n",
              "    .dataframe thead th {\n",
              "        text-align: right;\n",
              "    }\n",
              "</style>\n",
              "<table border=\"1\" class=\"dataframe\">\n",
              "  <thead>\n",
              "    <tr style=\"text-align: right;\">\n",
              "      <th></th>\n",
              "      <th>Year</th>\n",
              "      <th>CASM_Pilot</th>\n",
              "      <th>CASM_Maintenance</th>\n",
              "      <th>airline</th>\n",
              "    </tr>\n",
              "  </thead>\n",
              "  <tbody>\n",
              "    <tr>\n",
              "      <th>2003</th>\n",
              "      <td>2003</td>\n",
              "      <td>0.131159</td>\n",
              "      <td>0.111647</td>\n",
              "      <td>american_airline</td>\n",
              "    </tr>\n",
              "    <tr>\n",
              "      <th>2004</th>\n",
              "      <td>2004</td>\n",
              "      <td>0.115382</td>\n",
              "      <td>0.107411</td>\n",
              "      <td>american_airline</td>\n",
              "    </tr>\n",
              "    <tr>\n",
              "      <th>2005</th>\n",
              "      <td>2005</td>\n",
              "      <td>0.111425</td>\n",
              "      <td>0.108127</td>\n",
              "      <td>american_airline</td>\n",
              "    </tr>\n",
              "    <tr>\n",
              "      <th>2006</th>\n",
              "      <td>2006</td>\n",
              "      <td>0.109647</td>\n",
              "      <td>0.1136</td>\n",
              "      <td>american_airline</td>\n",
              "    </tr>\n",
              "    <tr>\n",
              "      <th>2007</th>\n",
              "      <td>2007</td>\n",
              "      <td>0.110759</td>\n",
              "      <td>0.115467</td>\n",
              "      <td>american_airline</td>\n",
              "    </tr>\n",
              "    <tr>\n",
              "      <th>...</th>\n",
              "      <td>...</td>\n",
              "      <td>...</td>\n",
              "      <td>...</td>\n",
              "      <td>...</td>\n",
              "    </tr>\n",
              "    <tr>\n",
              "      <th>2014</th>\n",
              "      <td>2014</td>\n",
              "      <td>0.124973</td>\n",
              "      <td>0.086864</td>\n",
              "      <td>alaska</td>\n",
              "    </tr>\n",
              "    <tr>\n",
              "      <th>2015</th>\n",
              "      <td>2015</td>\n",
              "      <td>0.121211</td>\n",
              "      <td>0.08328</td>\n",
              "      <td>alaska</td>\n",
              "    </tr>\n",
              "    <tr>\n",
              "      <th>2016</th>\n",
              "      <td>2016</td>\n",
              "      <td>0.118463</td>\n",
              "      <td>0.078966</td>\n",
              "      <td>alaska</td>\n",
              "    </tr>\n",
              "    <tr>\n",
              "      <th>2017</th>\n",
              "      <td>2017</td>\n",
              "      <td>0.128524</td>\n",
              "      <td>0.08809</td>\n",
              "      <td>alaska</td>\n",
              "    </tr>\n",
              "    <tr>\n",
              "      <th>2018</th>\n",
              "      <td>2018</td>\n",
              "      <td>0.14253</td>\n",
              "      <td>0.095232</td>\n",
              "      <td>alaska</td>\n",
              "    </tr>\n",
              "  </tbody>\n",
              "</table>\n",
              "<p>80 rows × 4 columns</p>\n",
              "</div>\n",
              "      <button class=\"colab-df-convert\" onclick=\"convertToInteractive('df-129b3132-eeeb-4fa4-be05-010a29178219')\"\n",
              "              title=\"Convert this dataframe to an interactive table.\"\n",
              "              style=\"display:none;\">\n",
              "        \n",
              "  <svg xmlns=\"http://www.w3.org/2000/svg\" height=\"24px\"viewBox=\"0 0 24 24\"\n",
              "       width=\"24px\">\n",
              "    <path d=\"M0 0h24v24H0V0z\" fill=\"none\"/>\n",
              "    <path d=\"M18.56 5.44l.94 2.06.94-2.06 2.06-.94-2.06-.94-.94-2.06-.94 2.06-2.06.94zm-11 1L8.5 8.5l.94-2.06 2.06-.94-2.06-.94L8.5 2.5l-.94 2.06-2.06.94zm10 10l.94 2.06.94-2.06 2.06-.94-2.06-.94-.94-2.06-.94 2.06-2.06.94z\"/><path d=\"M17.41 7.96l-1.37-1.37c-.4-.4-.92-.59-1.43-.59-.52 0-1.04.2-1.43.59L10.3 9.45l-7.72 7.72c-.78.78-.78 2.05 0 2.83L4 21.41c.39.39.9.59 1.41.59.51 0 1.02-.2 1.41-.59l7.78-7.78 2.81-2.81c.8-.78.8-2.07 0-2.86zM5.41 20L4 18.59l7.72-7.72 1.47 1.35L5.41 20z\"/>\n",
              "  </svg>\n",
              "      </button>\n",
              "      \n",
              "  <style>\n",
              "    .colab-df-container {\n",
              "      display:flex;\n",
              "      flex-wrap:wrap;\n",
              "      gap: 12px;\n",
              "    }\n",
              "\n",
              "    .colab-df-convert {\n",
              "      background-color: #E8F0FE;\n",
              "      border: none;\n",
              "      border-radius: 50%;\n",
              "      cursor: pointer;\n",
              "      display: none;\n",
              "      fill: #1967D2;\n",
              "      height: 32px;\n",
              "      padding: 0 0 0 0;\n",
              "      width: 32px;\n",
              "    }\n",
              "\n",
              "    .colab-df-convert:hover {\n",
              "      background-color: #E2EBFA;\n",
              "      box-shadow: 0px 1px 2px rgba(60, 64, 67, 0.3), 0px 1px 3px 1px rgba(60, 64, 67, 0.15);\n",
              "      fill: #174EA6;\n",
              "    }\n",
              "\n",
              "    [theme=dark] .colab-df-convert {\n",
              "      background-color: #3B4455;\n",
              "      fill: #D2E3FC;\n",
              "    }\n",
              "\n",
              "    [theme=dark] .colab-df-convert:hover {\n",
              "      background-color: #434B5C;\n",
              "      box-shadow: 0px 1px 3px 1px rgba(0, 0, 0, 0.15);\n",
              "      filter: drop-shadow(0px 1px 2px rgba(0, 0, 0, 0.3));\n",
              "      fill: #FFFFFF;\n",
              "    }\n",
              "  </style>\n",
              "\n",
              "      <script>\n",
              "        const buttonEl =\n",
              "          document.querySelector('#df-129b3132-eeeb-4fa4-be05-010a29178219 button.colab-df-convert');\n",
              "        buttonEl.style.display =\n",
              "          google.colab.kernel.accessAllowed ? 'block' : 'none';\n",
              "\n",
              "        async function convertToInteractive(key) {\n",
              "          const element = document.querySelector('#df-129b3132-eeeb-4fa4-be05-010a29178219');\n",
              "          const dataTable =\n",
              "            await google.colab.kernel.invokeFunction('convertToInteractive',\n",
              "                                                     [key], {});\n",
              "          if (!dataTable) return;\n",
              "\n",
              "          const docLinkHtml = 'Like what you see? Visit the ' +\n",
              "            '<a target=\"_blank\" href=https://colab.research.google.com/notebooks/data_table.ipynb>data table notebook</a>'\n",
              "            + ' to learn more about interactive tables.';\n",
              "          element.innerHTML = '';\n",
              "          dataTable['output_type'] = 'display_data';\n",
              "          await google.colab.output.renderOutput(dataTable, element);\n",
              "          const docLink = document.createElement('div');\n",
              "          docLink.innerHTML = docLinkHtml;\n",
              "          element.appendChild(docLink);\n",
              "        }\n",
              "      </script>\n",
              "    </div>\n",
              "  </div>\n",
              "  "
            ]
          },
          "metadata": {},
          "execution_count": 14
        }
      ]
    },
    {
      "cell_type": "code",
      "source": [
        "df.sample(5)"
      ],
      "metadata": {
        "colab": {
          "base_uri": "https://localhost:8080/",
          "height": 197
        },
        "id": "kGXO0yQpD1JK",
        "outputId": "eb4167ba-dd2a-4e93-9fd5-7d4e0cf30adf"
      },
      "execution_count": null,
      "outputs": [
        {
          "output_type": "execute_result",
          "data": {
            "text/plain": [
              "      Year CASM_Pilot CASM_Maintenance           airline\n",
              "2007  2007   0.115978         0.102454            alaska\n",
              "2006  2006   0.116869         0.111199            alaska\n",
              "2012  2012   0.118294         0.120538             delta\n",
              "2008  2008    0.11155         0.133682  american_airline\n",
              "2013  2013   0.107592         0.145717  american_airline"
            ],
            "text/html": [
              "\n",
              "  <div id=\"df-c1272fc7-24b9-4f42-ba1a-fb7a5e92c579\">\n",
              "    <div class=\"colab-df-container\">\n",
              "      <div>\n",
              "<style scoped>\n",
              "    .dataframe tbody tr th:only-of-type {\n",
              "        vertical-align: middle;\n",
              "    }\n",
              "\n",
              "    .dataframe tbody tr th {\n",
              "        vertical-align: top;\n",
              "    }\n",
              "\n",
              "    .dataframe thead th {\n",
              "        text-align: right;\n",
              "    }\n",
              "</style>\n",
              "<table border=\"1\" class=\"dataframe\">\n",
              "  <thead>\n",
              "    <tr style=\"text-align: right;\">\n",
              "      <th></th>\n",
              "      <th>Year</th>\n",
              "      <th>CASM_Pilot</th>\n",
              "      <th>CASM_Maintenance</th>\n",
              "      <th>airline</th>\n",
              "    </tr>\n",
              "  </thead>\n",
              "  <tbody>\n",
              "    <tr>\n",
              "      <th>2007</th>\n",
              "      <td>2007</td>\n",
              "      <td>0.115978</td>\n",
              "      <td>0.102454</td>\n",
              "      <td>alaska</td>\n",
              "    </tr>\n",
              "    <tr>\n",
              "      <th>2006</th>\n",
              "      <td>2006</td>\n",
              "      <td>0.116869</td>\n",
              "      <td>0.111199</td>\n",
              "      <td>alaska</td>\n",
              "    </tr>\n",
              "    <tr>\n",
              "      <th>2012</th>\n",
              "      <td>2012</td>\n",
              "      <td>0.118294</td>\n",
              "      <td>0.120538</td>\n",
              "      <td>delta</td>\n",
              "    </tr>\n",
              "    <tr>\n",
              "      <th>2008</th>\n",
              "      <td>2008</td>\n",
              "      <td>0.11155</td>\n",
              "      <td>0.133682</td>\n",
              "      <td>american_airline</td>\n",
              "    </tr>\n",
              "    <tr>\n",
              "      <th>2013</th>\n",
              "      <td>2013</td>\n",
              "      <td>0.107592</td>\n",
              "      <td>0.145717</td>\n",
              "      <td>american_airline</td>\n",
              "    </tr>\n",
              "  </tbody>\n",
              "</table>\n",
              "</div>\n",
              "      <button class=\"colab-df-convert\" onclick=\"convertToInteractive('df-c1272fc7-24b9-4f42-ba1a-fb7a5e92c579')\"\n",
              "              title=\"Convert this dataframe to an interactive table.\"\n",
              "              style=\"display:none;\">\n",
              "        \n",
              "  <svg xmlns=\"http://www.w3.org/2000/svg\" height=\"24px\"viewBox=\"0 0 24 24\"\n",
              "       width=\"24px\">\n",
              "    <path d=\"M0 0h24v24H0V0z\" fill=\"none\"/>\n",
              "    <path d=\"M18.56 5.44l.94 2.06.94-2.06 2.06-.94-2.06-.94-.94-2.06-.94 2.06-2.06.94zm-11 1L8.5 8.5l.94-2.06 2.06-.94-2.06-.94L8.5 2.5l-.94 2.06-2.06.94zm10 10l.94 2.06.94-2.06 2.06-.94-2.06-.94-.94-2.06-.94 2.06-2.06.94z\"/><path d=\"M17.41 7.96l-1.37-1.37c-.4-.4-.92-.59-1.43-.59-.52 0-1.04.2-1.43.59L10.3 9.45l-7.72 7.72c-.78.78-.78 2.05 0 2.83L4 21.41c.39.39.9.59 1.41.59.51 0 1.02-.2 1.41-.59l7.78-7.78 2.81-2.81c.8-.78.8-2.07 0-2.86zM5.41 20L4 18.59l7.72-7.72 1.47 1.35L5.41 20z\"/>\n",
              "  </svg>\n",
              "      </button>\n",
              "      \n",
              "  <style>\n",
              "    .colab-df-container {\n",
              "      display:flex;\n",
              "      flex-wrap:wrap;\n",
              "      gap: 12px;\n",
              "    }\n",
              "\n",
              "    .colab-df-convert {\n",
              "      background-color: #E8F0FE;\n",
              "      border: none;\n",
              "      border-radius: 50%;\n",
              "      cursor: pointer;\n",
              "      display: none;\n",
              "      fill: #1967D2;\n",
              "      height: 32px;\n",
              "      padding: 0 0 0 0;\n",
              "      width: 32px;\n",
              "    }\n",
              "\n",
              "    .colab-df-convert:hover {\n",
              "      background-color: #E2EBFA;\n",
              "      box-shadow: 0px 1px 2px rgba(60, 64, 67, 0.3), 0px 1px 3px 1px rgba(60, 64, 67, 0.15);\n",
              "      fill: #174EA6;\n",
              "    }\n",
              "\n",
              "    [theme=dark] .colab-df-convert {\n",
              "      background-color: #3B4455;\n",
              "      fill: #D2E3FC;\n",
              "    }\n",
              "\n",
              "    [theme=dark] .colab-df-convert:hover {\n",
              "      background-color: #434B5C;\n",
              "      box-shadow: 0px 1px 3px 1px rgba(0, 0, 0, 0.15);\n",
              "      filter: drop-shadow(0px 1px 2px rgba(0, 0, 0, 0.3));\n",
              "      fill: #FFFFFF;\n",
              "    }\n",
              "  </style>\n",
              "\n",
              "      <script>\n",
              "        const buttonEl =\n",
              "          document.querySelector('#df-c1272fc7-24b9-4f42-ba1a-fb7a5e92c579 button.colab-df-convert');\n",
              "        buttonEl.style.display =\n",
              "          google.colab.kernel.accessAllowed ? 'block' : 'none';\n",
              "\n",
              "        async function convertToInteractive(key) {\n",
              "          const element = document.querySelector('#df-c1272fc7-24b9-4f42-ba1a-fb7a5e92c579');\n",
              "          const dataTable =\n",
              "            await google.colab.kernel.invokeFunction('convertToInteractive',\n",
              "                                                     [key], {});\n",
              "          if (!dataTable) return;\n",
              "\n",
              "          const docLinkHtml = 'Like what you see? Visit the ' +\n",
              "            '<a target=\"_blank\" href=https://colab.research.google.com/notebooks/data_table.ipynb>data table notebook</a>'\n",
              "            + ' to learn more about interactive tables.';\n",
              "          element.innerHTML = '';\n",
              "          dataTable['output_type'] = 'display_data';\n",
              "          await google.colab.output.renderOutput(dataTable, element);\n",
              "          const docLink = document.createElement('div');\n",
              "          docLink.innerHTML = docLinkHtml;\n",
              "          element.appendChild(docLink);\n",
              "        }\n",
              "      </script>\n",
              "    </div>\n",
              "  </div>\n",
              "  "
            ]
          },
          "metadata": {},
          "execution_count": 15
        }
      ]
    },
    {
      "cell_type": "code",
      "source": [
        ""
      ],
      "metadata": {
        "id": "7VCxM2J3NqDV"
      },
      "execution_count": null,
      "outputs": []
    },
    {
      "cell_type": "markdown",
      "source": [
        "### Clean OTP data"
      ],
      "metadata": {
        "id": "bQ_-w2_2yhGA"
      }
    },
    {
      "cell_type": "code",
      "source": [
        "#Read data for all OTP\n",
        "xls = pd.ExcelFile(datafolder/\"OTP.xlsx\")\n",
        "AAOTP = pd.read_excel(xls, \"AA\")\n",
        "DeltaOTP = pd.read_excel(xls, \"Delta\")\n",
        "UnitedOTP = pd.read_excel(xls, \"United\")\n",
        "SouthwestOTP = pd.read_excel(xls, \"Southwest\")\n",
        "AlaskaOTP = pd.read_excel(xls, \"Alaska\")"
      ],
      "metadata": {
        "id": "I7kSv-GE1JnU"
      },
      "execution_count": null,
      "outputs": []
    },
    {
      "cell_type": "code",
      "source": [
        "def cleaned_otp(df):\n",
        "  df = df.iloc[:,[0,6,7]]\n",
        "  df.dropna()\n",
        "  df = df.groupby('year').sum()\n",
        "  df = df.iloc[:-3]\n",
        "  df['pc_delay'] = df['arr_del15'] / df['arr_flights'] * 100\n",
        "  df['Year'] = Year\n",
        "  df = df.drop(columns = ['arr_del15', 'arr_flights'])\n",
        "  df.reset_index()\n",
        "  return df"
      ],
      "metadata": {
        "id": "WHO3MdHuxyrQ"
      },
      "execution_count": null,
      "outputs": []
    },
    {
      "cell_type": "code",
      "source": [
        "aa_otp = cleaned_otp(AAOTP)\n",
        "alaska_otp = cleaned_otp(AlaskaOTP)\n",
        "delta_otp = cleaned_otp(DeltaOTP)\n",
        "sw_otp = cleaned_otp(SouthwestOTP)\n",
        "united_otp = cleaned_otp(UnitedOTP)"
      ],
      "metadata": {
        "id": "KArfgvdRvbNW"
      },
      "execution_count": null,
      "outputs": []
    },
    {
      "cell_type": "code",
      "source": [
        "aa_otp"
      ],
      "metadata": {
        "colab": {
          "base_uri": "https://localhost:8080/",
          "height": 557
        },
        "id": "8YiQbCqQ14TX",
        "outputId": "0c31f78f-4382-4dc1-ff0f-450ba90ebeb0"
      },
      "execution_count": null,
      "outputs": [
        {
          "output_type": "execute_result",
          "data": {
            "text/plain": [
              "       pc_delay  Year\n",
              "year                 \n",
              "2003  18.807151  2003\n",
              "2004  21.208278  2004\n",
              "2005  21.436408  2005\n",
              "2006  22.617104  2006\n",
              "2007  28.102395  2007\n",
              "2008  26.951239  2008\n",
              "2009  20.774406  2009\n",
              "2010  18.320661  2010\n",
              "2011  19.320338  2011\n",
              "2012  20.896386  2012\n",
              "2013  20.239231  2013\n",
              "2014  22.271093  2014\n",
              "2015  17.945161  2015\n",
              "2016  19.185780  2016\n",
              "2017  18.076238  2017\n",
              "2018  19.719726  2018"
            ],
            "text/html": [
              "\n",
              "  <div id=\"df-7d8bf4da-f349-427c-83f3-dabf48f2ac71\">\n",
              "    <div class=\"colab-df-container\">\n",
              "      <div>\n",
              "<style scoped>\n",
              "    .dataframe tbody tr th:only-of-type {\n",
              "        vertical-align: middle;\n",
              "    }\n",
              "\n",
              "    .dataframe tbody tr th {\n",
              "        vertical-align: top;\n",
              "    }\n",
              "\n",
              "    .dataframe thead th {\n",
              "        text-align: right;\n",
              "    }\n",
              "</style>\n",
              "<table border=\"1\" class=\"dataframe\">\n",
              "  <thead>\n",
              "    <tr style=\"text-align: right;\">\n",
              "      <th></th>\n",
              "      <th>pc_delay</th>\n",
              "      <th>Year</th>\n",
              "    </tr>\n",
              "    <tr>\n",
              "      <th>year</th>\n",
              "      <th></th>\n",
              "      <th></th>\n",
              "    </tr>\n",
              "  </thead>\n",
              "  <tbody>\n",
              "    <tr>\n",
              "      <th>2003</th>\n",
              "      <td>18.807151</td>\n",
              "      <td>2003</td>\n",
              "    </tr>\n",
              "    <tr>\n",
              "      <th>2004</th>\n",
              "      <td>21.208278</td>\n",
              "      <td>2004</td>\n",
              "    </tr>\n",
              "    <tr>\n",
              "      <th>2005</th>\n",
              "      <td>21.436408</td>\n",
              "      <td>2005</td>\n",
              "    </tr>\n",
              "    <tr>\n",
              "      <th>2006</th>\n",
              "      <td>22.617104</td>\n",
              "      <td>2006</td>\n",
              "    </tr>\n",
              "    <tr>\n",
              "      <th>2007</th>\n",
              "      <td>28.102395</td>\n",
              "      <td>2007</td>\n",
              "    </tr>\n",
              "    <tr>\n",
              "      <th>2008</th>\n",
              "      <td>26.951239</td>\n",
              "      <td>2008</td>\n",
              "    </tr>\n",
              "    <tr>\n",
              "      <th>2009</th>\n",
              "      <td>20.774406</td>\n",
              "      <td>2009</td>\n",
              "    </tr>\n",
              "    <tr>\n",
              "      <th>2010</th>\n",
              "      <td>18.320661</td>\n",
              "      <td>2010</td>\n",
              "    </tr>\n",
              "    <tr>\n",
              "      <th>2011</th>\n",
              "      <td>19.320338</td>\n",
              "      <td>2011</td>\n",
              "    </tr>\n",
              "    <tr>\n",
              "      <th>2012</th>\n",
              "      <td>20.896386</td>\n",
              "      <td>2012</td>\n",
              "    </tr>\n",
              "    <tr>\n",
              "      <th>2013</th>\n",
              "      <td>20.239231</td>\n",
              "      <td>2013</td>\n",
              "    </tr>\n",
              "    <tr>\n",
              "      <th>2014</th>\n",
              "      <td>22.271093</td>\n",
              "      <td>2014</td>\n",
              "    </tr>\n",
              "    <tr>\n",
              "      <th>2015</th>\n",
              "      <td>17.945161</td>\n",
              "      <td>2015</td>\n",
              "    </tr>\n",
              "    <tr>\n",
              "      <th>2016</th>\n",
              "      <td>19.185780</td>\n",
              "      <td>2016</td>\n",
              "    </tr>\n",
              "    <tr>\n",
              "      <th>2017</th>\n",
              "      <td>18.076238</td>\n",
              "      <td>2017</td>\n",
              "    </tr>\n",
              "    <tr>\n",
              "      <th>2018</th>\n",
              "      <td>19.719726</td>\n",
              "      <td>2018</td>\n",
              "    </tr>\n",
              "  </tbody>\n",
              "</table>\n",
              "</div>\n",
              "      <button class=\"colab-df-convert\" onclick=\"convertToInteractive('df-7d8bf4da-f349-427c-83f3-dabf48f2ac71')\"\n",
              "              title=\"Convert this dataframe to an interactive table.\"\n",
              "              style=\"display:none;\">\n",
              "        \n",
              "  <svg xmlns=\"http://www.w3.org/2000/svg\" height=\"24px\"viewBox=\"0 0 24 24\"\n",
              "       width=\"24px\">\n",
              "    <path d=\"M0 0h24v24H0V0z\" fill=\"none\"/>\n",
              "    <path d=\"M18.56 5.44l.94 2.06.94-2.06 2.06-.94-2.06-.94-.94-2.06-.94 2.06-2.06.94zm-11 1L8.5 8.5l.94-2.06 2.06-.94-2.06-.94L8.5 2.5l-.94 2.06-2.06.94zm10 10l.94 2.06.94-2.06 2.06-.94-2.06-.94-.94-2.06-.94 2.06-2.06.94z\"/><path d=\"M17.41 7.96l-1.37-1.37c-.4-.4-.92-.59-1.43-.59-.52 0-1.04.2-1.43.59L10.3 9.45l-7.72 7.72c-.78.78-.78 2.05 0 2.83L4 21.41c.39.39.9.59 1.41.59.51 0 1.02-.2 1.41-.59l7.78-7.78 2.81-2.81c.8-.78.8-2.07 0-2.86zM5.41 20L4 18.59l7.72-7.72 1.47 1.35L5.41 20z\"/>\n",
              "  </svg>\n",
              "      </button>\n",
              "      \n",
              "  <style>\n",
              "    .colab-df-container {\n",
              "      display:flex;\n",
              "      flex-wrap:wrap;\n",
              "      gap: 12px;\n",
              "    }\n",
              "\n",
              "    .colab-df-convert {\n",
              "      background-color: #E8F0FE;\n",
              "      border: none;\n",
              "      border-radius: 50%;\n",
              "      cursor: pointer;\n",
              "      display: none;\n",
              "      fill: #1967D2;\n",
              "      height: 32px;\n",
              "      padding: 0 0 0 0;\n",
              "      width: 32px;\n",
              "    }\n",
              "\n",
              "    .colab-df-convert:hover {\n",
              "      background-color: #E2EBFA;\n",
              "      box-shadow: 0px 1px 2px rgba(60, 64, 67, 0.3), 0px 1px 3px 1px rgba(60, 64, 67, 0.15);\n",
              "      fill: #174EA6;\n",
              "    }\n",
              "\n",
              "    [theme=dark] .colab-df-convert {\n",
              "      background-color: #3B4455;\n",
              "      fill: #D2E3FC;\n",
              "    }\n",
              "\n",
              "    [theme=dark] .colab-df-convert:hover {\n",
              "      background-color: #434B5C;\n",
              "      box-shadow: 0px 1px 3px 1px rgba(0, 0, 0, 0.15);\n",
              "      filter: drop-shadow(0px 1px 2px rgba(0, 0, 0, 0.3));\n",
              "      fill: #FFFFFF;\n",
              "    }\n",
              "  </style>\n",
              "\n",
              "      <script>\n",
              "        const buttonEl =\n",
              "          document.querySelector('#df-7d8bf4da-f349-427c-83f3-dabf48f2ac71 button.colab-df-convert');\n",
              "        buttonEl.style.display =\n",
              "          google.colab.kernel.accessAllowed ? 'block' : 'none';\n",
              "\n",
              "        async function convertToInteractive(key) {\n",
              "          const element = document.querySelector('#df-7d8bf4da-f349-427c-83f3-dabf48f2ac71');\n",
              "          const dataTable =\n",
              "            await google.colab.kernel.invokeFunction('convertToInteractive',\n",
              "                                                     [key], {});\n",
              "          if (!dataTable) return;\n",
              "\n",
              "          const docLinkHtml = 'Like what you see? Visit the ' +\n",
              "            '<a target=\"_blank\" href=https://colab.research.google.com/notebooks/data_table.ipynb>data table notebook</a>'\n",
              "            + ' to learn more about interactive tables.';\n",
              "          element.innerHTML = '';\n",
              "          dataTable['output_type'] = 'display_data';\n",
              "          await google.colab.output.renderOutput(dataTable, element);\n",
              "          const docLink = document.createElement('div');\n",
              "          docLink.innerHTML = docLinkHtml;\n",
              "          element.appendChild(docLink);\n",
              "        }\n",
              "      </script>\n",
              "    </div>\n",
              "  </div>\n",
              "  "
            ]
          },
          "metadata": {},
          "execution_count": 19
        }
      ]
    },
    {
      "cell_type": "code",
      "source": [
        "aa_otp.columns"
      ],
      "metadata": {
        "colab": {
          "base_uri": "https://localhost:8080/"
        },
        "id": "u3zDD3Ld18UQ",
        "outputId": "d097846c-be54-4aa0-fa43-cb3cc04651ac"
      },
      "execution_count": null,
      "outputs": [
        {
          "output_type": "execute_result",
          "data": {
            "text/plain": [
              "Index(['pc_delay', 'Year'], dtype='object')"
            ]
          },
          "metadata": {},
          "execution_count": 20
        }
      ]
    },
    {
      "cell_type": "code",
      "source": [
        "aa_otp['airline'] = \"american_airline\"\n",
        "alaska_otp['airline'] = \"alaska\"\n",
        "delta_otp['airline'] = \"delta\"\n",
        "sw_otp['airline'] = \"southwest\"\n",
        "united_otp['airline'] = \"united\""
      ],
      "metadata": {
        "id": "yuQah4nEN35X"
      },
      "execution_count": null,
      "outputs": []
    },
    {
      "cell_type": "code",
      "source": [
        "otp = pd.concat([aa_otp, alaska_otp, delta_otp, sw_otp, united_otp])"
      ],
      "metadata": {
        "id": "3d4LyTeC-VWN"
      },
      "execution_count": null,
      "outputs": []
    },
    {
      "cell_type": "code",
      "source": [
        "otp"
      ],
      "metadata": {
        "id": "3pi0Rmws-YTN",
        "colab": {
          "base_uri": "https://localhost:8080/",
          "height": 436
        },
        "outputId": "a5538e9e-fe47-4731-8523-cf3d19636766"
      },
      "execution_count": null,
      "outputs": [
        {
          "output_type": "execute_result",
          "data": {
            "text/plain": [
              "       pc_delay  Year           airline\n",
              "year                                   \n",
              "2003  18.807151  2003  american_airline\n",
              "2004  21.208278  2004  american_airline\n",
              "2005  21.436408  2005  american_airline\n",
              "2006  22.617104  2006  american_airline\n",
              "2007  28.102395  2007  american_airline\n",
              "...         ...   ...               ...\n",
              "2014  22.281411  2014            united\n",
              "2015  20.305862  2015            united\n",
              "2016  17.032952  2016            united\n",
              "2017  16.694982  2017            united\n",
              "2018  19.248832  2018            united\n",
              "\n",
              "[80 rows x 3 columns]"
            ],
            "text/html": [
              "\n",
              "  <div id=\"df-22c9a6df-36b2-4cb2-b101-2b07b24ee84e\">\n",
              "    <div class=\"colab-df-container\">\n",
              "      <div>\n",
              "<style scoped>\n",
              "    .dataframe tbody tr th:only-of-type {\n",
              "        vertical-align: middle;\n",
              "    }\n",
              "\n",
              "    .dataframe tbody tr th {\n",
              "        vertical-align: top;\n",
              "    }\n",
              "\n",
              "    .dataframe thead th {\n",
              "        text-align: right;\n",
              "    }\n",
              "</style>\n",
              "<table border=\"1\" class=\"dataframe\">\n",
              "  <thead>\n",
              "    <tr style=\"text-align: right;\">\n",
              "      <th></th>\n",
              "      <th>pc_delay</th>\n",
              "      <th>Year</th>\n",
              "      <th>airline</th>\n",
              "    </tr>\n",
              "    <tr>\n",
              "      <th>year</th>\n",
              "      <th></th>\n",
              "      <th></th>\n",
              "      <th></th>\n",
              "    </tr>\n",
              "  </thead>\n",
              "  <tbody>\n",
              "    <tr>\n",
              "      <th>2003</th>\n",
              "      <td>18.807151</td>\n",
              "      <td>2003</td>\n",
              "      <td>american_airline</td>\n",
              "    </tr>\n",
              "    <tr>\n",
              "      <th>2004</th>\n",
              "      <td>21.208278</td>\n",
              "      <td>2004</td>\n",
              "      <td>american_airline</td>\n",
              "    </tr>\n",
              "    <tr>\n",
              "      <th>2005</th>\n",
              "      <td>21.436408</td>\n",
              "      <td>2005</td>\n",
              "      <td>american_airline</td>\n",
              "    </tr>\n",
              "    <tr>\n",
              "      <th>2006</th>\n",
              "      <td>22.617104</td>\n",
              "      <td>2006</td>\n",
              "      <td>american_airline</td>\n",
              "    </tr>\n",
              "    <tr>\n",
              "      <th>2007</th>\n",
              "      <td>28.102395</td>\n",
              "      <td>2007</td>\n",
              "      <td>american_airline</td>\n",
              "    </tr>\n",
              "    <tr>\n",
              "      <th>...</th>\n",
              "      <td>...</td>\n",
              "      <td>...</td>\n",
              "      <td>...</td>\n",
              "    </tr>\n",
              "    <tr>\n",
              "      <th>2014</th>\n",
              "      <td>22.281411</td>\n",
              "      <td>2014</td>\n",
              "      <td>united</td>\n",
              "    </tr>\n",
              "    <tr>\n",
              "      <th>2015</th>\n",
              "      <td>20.305862</td>\n",
              "      <td>2015</td>\n",
              "      <td>united</td>\n",
              "    </tr>\n",
              "    <tr>\n",
              "      <th>2016</th>\n",
              "      <td>17.032952</td>\n",
              "      <td>2016</td>\n",
              "      <td>united</td>\n",
              "    </tr>\n",
              "    <tr>\n",
              "      <th>2017</th>\n",
              "      <td>16.694982</td>\n",
              "      <td>2017</td>\n",
              "      <td>united</td>\n",
              "    </tr>\n",
              "    <tr>\n",
              "      <th>2018</th>\n",
              "      <td>19.248832</td>\n",
              "      <td>2018</td>\n",
              "      <td>united</td>\n",
              "    </tr>\n",
              "  </tbody>\n",
              "</table>\n",
              "<p>80 rows × 3 columns</p>\n",
              "</div>\n",
              "      <button class=\"colab-df-convert\" onclick=\"convertToInteractive('df-22c9a6df-36b2-4cb2-b101-2b07b24ee84e')\"\n",
              "              title=\"Convert this dataframe to an interactive table.\"\n",
              "              style=\"display:none;\">\n",
              "        \n",
              "  <svg xmlns=\"http://www.w3.org/2000/svg\" height=\"24px\"viewBox=\"0 0 24 24\"\n",
              "       width=\"24px\">\n",
              "    <path d=\"M0 0h24v24H0V0z\" fill=\"none\"/>\n",
              "    <path d=\"M18.56 5.44l.94 2.06.94-2.06 2.06-.94-2.06-.94-.94-2.06-.94 2.06-2.06.94zm-11 1L8.5 8.5l.94-2.06 2.06-.94-2.06-.94L8.5 2.5l-.94 2.06-2.06.94zm10 10l.94 2.06.94-2.06 2.06-.94-2.06-.94-.94-2.06-.94 2.06-2.06.94z\"/><path d=\"M17.41 7.96l-1.37-1.37c-.4-.4-.92-.59-1.43-.59-.52 0-1.04.2-1.43.59L10.3 9.45l-7.72 7.72c-.78.78-.78 2.05 0 2.83L4 21.41c.39.39.9.59 1.41.59.51 0 1.02-.2 1.41-.59l7.78-7.78 2.81-2.81c.8-.78.8-2.07 0-2.86zM5.41 20L4 18.59l7.72-7.72 1.47 1.35L5.41 20z\"/>\n",
              "  </svg>\n",
              "      </button>\n",
              "      \n",
              "  <style>\n",
              "    .colab-df-container {\n",
              "      display:flex;\n",
              "      flex-wrap:wrap;\n",
              "      gap: 12px;\n",
              "    }\n",
              "\n",
              "    .colab-df-convert {\n",
              "      background-color: #E8F0FE;\n",
              "      border: none;\n",
              "      border-radius: 50%;\n",
              "      cursor: pointer;\n",
              "      display: none;\n",
              "      fill: #1967D2;\n",
              "      height: 32px;\n",
              "      padding: 0 0 0 0;\n",
              "      width: 32px;\n",
              "    }\n",
              "\n",
              "    .colab-df-convert:hover {\n",
              "      background-color: #E2EBFA;\n",
              "      box-shadow: 0px 1px 2px rgba(60, 64, 67, 0.3), 0px 1px 3px 1px rgba(60, 64, 67, 0.15);\n",
              "      fill: #174EA6;\n",
              "    }\n",
              "\n",
              "    [theme=dark] .colab-df-convert {\n",
              "      background-color: #3B4455;\n",
              "      fill: #D2E3FC;\n",
              "    }\n",
              "\n",
              "    [theme=dark] .colab-df-convert:hover {\n",
              "      background-color: #434B5C;\n",
              "      box-shadow: 0px 1px 3px 1px rgba(0, 0, 0, 0.15);\n",
              "      filter: drop-shadow(0px 1px 2px rgba(0, 0, 0, 0.3));\n",
              "      fill: #FFFFFF;\n",
              "    }\n",
              "  </style>\n",
              "\n",
              "      <script>\n",
              "        const buttonEl =\n",
              "          document.querySelector('#df-22c9a6df-36b2-4cb2-b101-2b07b24ee84e button.colab-df-convert');\n",
              "        buttonEl.style.display =\n",
              "          google.colab.kernel.accessAllowed ? 'block' : 'none';\n",
              "\n",
              "        async function convertToInteractive(key) {\n",
              "          const element = document.querySelector('#df-22c9a6df-36b2-4cb2-b101-2b07b24ee84e');\n",
              "          const dataTable =\n",
              "            await google.colab.kernel.invokeFunction('convertToInteractive',\n",
              "                                                     [key], {});\n",
              "          if (!dataTable) return;\n",
              "\n",
              "          const docLinkHtml = 'Like what you see? Visit the ' +\n",
              "            '<a target=\"_blank\" href=https://colab.research.google.com/notebooks/data_table.ipynb>data table notebook</a>'\n",
              "            + ' to learn more about interactive tables.';\n",
              "          element.innerHTML = '';\n",
              "          dataTable['output_type'] = 'display_data';\n",
              "          await google.colab.output.renderOutput(dataTable, element);\n",
              "          const docLink = document.createElement('div');\n",
              "          docLink.innerHTML = docLinkHtml;\n",
              "          element.appendChild(docLink);\n",
              "        }\n",
              "      </script>\n",
              "    </div>\n",
              "  </div>\n",
              "  "
            ]
          },
          "metadata": {},
          "execution_count": 23
        }
      ]
    },
    {
      "cell_type": "markdown",
      "source": [
        "### Merge cost + OTP data"
      ],
      "metadata": {
        "id": "5HSrI_SM3FfD"
      }
    },
    {
      "cell_type": "code",
      "source": [
        "data = pd.merge(df, otp)"
      ],
      "metadata": {
        "id": "EUqI5sp1Nl6S"
      },
      "execution_count": null,
      "outputs": []
    },
    {
      "cell_type": "code",
      "source": [
        "data.head(30)"
      ],
      "metadata": {
        "colab": {
          "base_uri": "https://localhost:8080/",
          "height": 947
        },
        "id": "VO6Bvpja212y",
        "outputId": "ad0e4c4c-d3ba-46f5-cd8d-b411ec27efbf"
      },
      "execution_count": null,
      "outputs": [
        {
          "output_type": "execute_result",
          "data": {
            "text/plain": [
              "    Year CASM_Pilot CASM_Maintenance           airline   pc_delay\n",
              "0   2003   0.131159         0.111647  american_airline  18.807151\n",
              "1   2004   0.115382         0.107411  american_airline  21.208278\n",
              "2   2005   0.111425         0.108127  american_airline  21.436408\n",
              "3   2006   0.109647           0.1136  american_airline  22.617104\n",
              "4   2007   0.110759         0.115467  american_airline  28.102395\n",
              "5   2008    0.11155         0.133682  american_airline  26.951239\n",
              "6   2009   0.115964         0.146717  american_airline  20.774406\n",
              "7   2010   0.115705         0.151694  american_airline  18.320661\n",
              "8   2011   0.117865          0.15133  american_airline  19.320338\n",
              "9   2012    0.10692          0.15049  american_airline  20.896386\n",
              "10  2013   0.107592         0.145717  american_airline  20.239231\n",
              "11  2014   0.118226          0.15112  american_airline  22.271093\n",
              "12  2015   0.150284         0.141869  american_airline  17.945161\n",
              "13  2016   0.159821         0.143163  american_airline  19.185780\n",
              "14  2017   0.173981         0.151699  american_airline  18.076238\n",
              "15  2018   0.179493         0.153684  american_airline  19.719726\n",
              "16  2003   0.182751         0.088692             delta  17.691597\n",
              "17  2004   0.168793         0.087435             delta  22.096219\n",
              "18  2005   0.118107         0.080218             delta  20.826004\n",
              "19  2006   0.101861         0.084852             delta  21.963066\n",
              "20  2007   0.077361         0.092368             delta  21.518463\n",
              "21  2008   0.082641         0.081456             delta  21.870595\n",
              "22  2009   0.094436         0.096608             delta  20.080980\n",
              "23  2010   0.107352         0.102748             delta  20.386153\n",
              "24  2011   0.110797         0.106197             delta  16.118531\n",
              "25  2012   0.118294         0.120538             delta  12.770901\n",
              "26  2013   0.136099         0.124976             delta  14.994236\n",
              "27  2014   0.142096         0.120906             delta  15.303951\n",
              "28  2015   0.148595          0.10484             delta  13.474776\n",
              "29  2016   0.171534         0.105079             delta  12.889571"
            ],
            "text/html": [
              "\n",
              "  <div id=\"df-6b050763-225d-4bfe-b4eb-10dfb45d39e0\">\n",
              "    <div class=\"colab-df-container\">\n",
              "      <div>\n",
              "<style scoped>\n",
              "    .dataframe tbody tr th:only-of-type {\n",
              "        vertical-align: middle;\n",
              "    }\n",
              "\n",
              "    .dataframe tbody tr th {\n",
              "        vertical-align: top;\n",
              "    }\n",
              "\n",
              "    .dataframe thead th {\n",
              "        text-align: right;\n",
              "    }\n",
              "</style>\n",
              "<table border=\"1\" class=\"dataframe\">\n",
              "  <thead>\n",
              "    <tr style=\"text-align: right;\">\n",
              "      <th></th>\n",
              "      <th>Year</th>\n",
              "      <th>CASM_Pilot</th>\n",
              "      <th>CASM_Maintenance</th>\n",
              "      <th>airline</th>\n",
              "      <th>pc_delay</th>\n",
              "    </tr>\n",
              "  </thead>\n",
              "  <tbody>\n",
              "    <tr>\n",
              "      <th>0</th>\n",
              "      <td>2003</td>\n",
              "      <td>0.131159</td>\n",
              "      <td>0.111647</td>\n",
              "      <td>american_airline</td>\n",
              "      <td>18.807151</td>\n",
              "    </tr>\n",
              "    <tr>\n",
              "      <th>1</th>\n",
              "      <td>2004</td>\n",
              "      <td>0.115382</td>\n",
              "      <td>0.107411</td>\n",
              "      <td>american_airline</td>\n",
              "      <td>21.208278</td>\n",
              "    </tr>\n",
              "    <tr>\n",
              "      <th>2</th>\n",
              "      <td>2005</td>\n",
              "      <td>0.111425</td>\n",
              "      <td>0.108127</td>\n",
              "      <td>american_airline</td>\n",
              "      <td>21.436408</td>\n",
              "    </tr>\n",
              "    <tr>\n",
              "      <th>3</th>\n",
              "      <td>2006</td>\n",
              "      <td>0.109647</td>\n",
              "      <td>0.1136</td>\n",
              "      <td>american_airline</td>\n",
              "      <td>22.617104</td>\n",
              "    </tr>\n",
              "    <tr>\n",
              "      <th>4</th>\n",
              "      <td>2007</td>\n",
              "      <td>0.110759</td>\n",
              "      <td>0.115467</td>\n",
              "      <td>american_airline</td>\n",
              "      <td>28.102395</td>\n",
              "    </tr>\n",
              "    <tr>\n",
              "      <th>5</th>\n",
              "      <td>2008</td>\n",
              "      <td>0.11155</td>\n",
              "      <td>0.133682</td>\n",
              "      <td>american_airline</td>\n",
              "      <td>26.951239</td>\n",
              "    </tr>\n",
              "    <tr>\n",
              "      <th>6</th>\n",
              "      <td>2009</td>\n",
              "      <td>0.115964</td>\n",
              "      <td>0.146717</td>\n",
              "      <td>american_airline</td>\n",
              "      <td>20.774406</td>\n",
              "    </tr>\n",
              "    <tr>\n",
              "      <th>7</th>\n",
              "      <td>2010</td>\n",
              "      <td>0.115705</td>\n",
              "      <td>0.151694</td>\n",
              "      <td>american_airline</td>\n",
              "      <td>18.320661</td>\n",
              "    </tr>\n",
              "    <tr>\n",
              "      <th>8</th>\n",
              "      <td>2011</td>\n",
              "      <td>0.117865</td>\n",
              "      <td>0.15133</td>\n",
              "      <td>american_airline</td>\n",
              "      <td>19.320338</td>\n",
              "    </tr>\n",
              "    <tr>\n",
              "      <th>9</th>\n",
              "      <td>2012</td>\n",
              "      <td>0.10692</td>\n",
              "      <td>0.15049</td>\n",
              "      <td>american_airline</td>\n",
              "      <td>20.896386</td>\n",
              "    </tr>\n",
              "    <tr>\n",
              "      <th>10</th>\n",
              "      <td>2013</td>\n",
              "      <td>0.107592</td>\n",
              "      <td>0.145717</td>\n",
              "      <td>american_airline</td>\n",
              "      <td>20.239231</td>\n",
              "    </tr>\n",
              "    <tr>\n",
              "      <th>11</th>\n",
              "      <td>2014</td>\n",
              "      <td>0.118226</td>\n",
              "      <td>0.15112</td>\n",
              "      <td>american_airline</td>\n",
              "      <td>22.271093</td>\n",
              "    </tr>\n",
              "    <tr>\n",
              "      <th>12</th>\n",
              "      <td>2015</td>\n",
              "      <td>0.150284</td>\n",
              "      <td>0.141869</td>\n",
              "      <td>american_airline</td>\n",
              "      <td>17.945161</td>\n",
              "    </tr>\n",
              "    <tr>\n",
              "      <th>13</th>\n",
              "      <td>2016</td>\n",
              "      <td>0.159821</td>\n",
              "      <td>0.143163</td>\n",
              "      <td>american_airline</td>\n",
              "      <td>19.185780</td>\n",
              "    </tr>\n",
              "    <tr>\n",
              "      <th>14</th>\n",
              "      <td>2017</td>\n",
              "      <td>0.173981</td>\n",
              "      <td>0.151699</td>\n",
              "      <td>american_airline</td>\n",
              "      <td>18.076238</td>\n",
              "    </tr>\n",
              "    <tr>\n",
              "      <th>15</th>\n",
              "      <td>2018</td>\n",
              "      <td>0.179493</td>\n",
              "      <td>0.153684</td>\n",
              "      <td>american_airline</td>\n",
              "      <td>19.719726</td>\n",
              "    </tr>\n",
              "    <tr>\n",
              "      <th>16</th>\n",
              "      <td>2003</td>\n",
              "      <td>0.182751</td>\n",
              "      <td>0.088692</td>\n",
              "      <td>delta</td>\n",
              "      <td>17.691597</td>\n",
              "    </tr>\n",
              "    <tr>\n",
              "      <th>17</th>\n",
              "      <td>2004</td>\n",
              "      <td>0.168793</td>\n",
              "      <td>0.087435</td>\n",
              "      <td>delta</td>\n",
              "      <td>22.096219</td>\n",
              "    </tr>\n",
              "    <tr>\n",
              "      <th>18</th>\n",
              "      <td>2005</td>\n",
              "      <td>0.118107</td>\n",
              "      <td>0.080218</td>\n",
              "      <td>delta</td>\n",
              "      <td>20.826004</td>\n",
              "    </tr>\n",
              "    <tr>\n",
              "      <th>19</th>\n",
              "      <td>2006</td>\n",
              "      <td>0.101861</td>\n",
              "      <td>0.084852</td>\n",
              "      <td>delta</td>\n",
              "      <td>21.963066</td>\n",
              "    </tr>\n",
              "    <tr>\n",
              "      <th>20</th>\n",
              "      <td>2007</td>\n",
              "      <td>0.077361</td>\n",
              "      <td>0.092368</td>\n",
              "      <td>delta</td>\n",
              "      <td>21.518463</td>\n",
              "    </tr>\n",
              "    <tr>\n",
              "      <th>21</th>\n",
              "      <td>2008</td>\n",
              "      <td>0.082641</td>\n",
              "      <td>0.081456</td>\n",
              "      <td>delta</td>\n",
              "      <td>21.870595</td>\n",
              "    </tr>\n",
              "    <tr>\n",
              "      <th>22</th>\n",
              "      <td>2009</td>\n",
              "      <td>0.094436</td>\n",
              "      <td>0.096608</td>\n",
              "      <td>delta</td>\n",
              "      <td>20.080980</td>\n",
              "    </tr>\n",
              "    <tr>\n",
              "      <th>23</th>\n",
              "      <td>2010</td>\n",
              "      <td>0.107352</td>\n",
              "      <td>0.102748</td>\n",
              "      <td>delta</td>\n",
              "      <td>20.386153</td>\n",
              "    </tr>\n",
              "    <tr>\n",
              "      <th>24</th>\n",
              "      <td>2011</td>\n",
              "      <td>0.110797</td>\n",
              "      <td>0.106197</td>\n",
              "      <td>delta</td>\n",
              "      <td>16.118531</td>\n",
              "    </tr>\n",
              "    <tr>\n",
              "      <th>25</th>\n",
              "      <td>2012</td>\n",
              "      <td>0.118294</td>\n",
              "      <td>0.120538</td>\n",
              "      <td>delta</td>\n",
              "      <td>12.770901</td>\n",
              "    </tr>\n",
              "    <tr>\n",
              "      <th>26</th>\n",
              "      <td>2013</td>\n",
              "      <td>0.136099</td>\n",
              "      <td>0.124976</td>\n",
              "      <td>delta</td>\n",
              "      <td>14.994236</td>\n",
              "    </tr>\n",
              "    <tr>\n",
              "      <th>27</th>\n",
              "      <td>2014</td>\n",
              "      <td>0.142096</td>\n",
              "      <td>0.120906</td>\n",
              "      <td>delta</td>\n",
              "      <td>15.303951</td>\n",
              "    </tr>\n",
              "    <tr>\n",
              "      <th>28</th>\n",
              "      <td>2015</td>\n",
              "      <td>0.148595</td>\n",
              "      <td>0.10484</td>\n",
              "      <td>delta</td>\n",
              "      <td>13.474776</td>\n",
              "    </tr>\n",
              "    <tr>\n",
              "      <th>29</th>\n",
              "      <td>2016</td>\n",
              "      <td>0.171534</td>\n",
              "      <td>0.105079</td>\n",
              "      <td>delta</td>\n",
              "      <td>12.889571</td>\n",
              "    </tr>\n",
              "  </tbody>\n",
              "</table>\n",
              "</div>\n",
              "      <button class=\"colab-df-convert\" onclick=\"convertToInteractive('df-6b050763-225d-4bfe-b4eb-10dfb45d39e0')\"\n",
              "              title=\"Convert this dataframe to an interactive table.\"\n",
              "              style=\"display:none;\">\n",
              "        \n",
              "  <svg xmlns=\"http://www.w3.org/2000/svg\" height=\"24px\"viewBox=\"0 0 24 24\"\n",
              "       width=\"24px\">\n",
              "    <path d=\"M0 0h24v24H0V0z\" fill=\"none\"/>\n",
              "    <path d=\"M18.56 5.44l.94 2.06.94-2.06 2.06-.94-2.06-.94-.94-2.06-.94 2.06-2.06.94zm-11 1L8.5 8.5l.94-2.06 2.06-.94-2.06-.94L8.5 2.5l-.94 2.06-2.06.94zm10 10l.94 2.06.94-2.06 2.06-.94-2.06-.94-.94-2.06-.94 2.06-2.06.94z\"/><path d=\"M17.41 7.96l-1.37-1.37c-.4-.4-.92-.59-1.43-.59-.52 0-1.04.2-1.43.59L10.3 9.45l-7.72 7.72c-.78.78-.78 2.05 0 2.83L4 21.41c.39.39.9.59 1.41.59.51 0 1.02-.2 1.41-.59l7.78-7.78 2.81-2.81c.8-.78.8-2.07 0-2.86zM5.41 20L4 18.59l7.72-7.72 1.47 1.35L5.41 20z\"/>\n",
              "  </svg>\n",
              "      </button>\n",
              "      \n",
              "  <style>\n",
              "    .colab-df-container {\n",
              "      display:flex;\n",
              "      flex-wrap:wrap;\n",
              "      gap: 12px;\n",
              "    }\n",
              "\n",
              "    .colab-df-convert {\n",
              "      background-color: #E8F0FE;\n",
              "      border: none;\n",
              "      border-radius: 50%;\n",
              "      cursor: pointer;\n",
              "      display: none;\n",
              "      fill: #1967D2;\n",
              "      height: 32px;\n",
              "      padding: 0 0 0 0;\n",
              "      width: 32px;\n",
              "    }\n",
              "\n",
              "    .colab-df-convert:hover {\n",
              "      background-color: #E2EBFA;\n",
              "      box-shadow: 0px 1px 2px rgba(60, 64, 67, 0.3), 0px 1px 3px 1px rgba(60, 64, 67, 0.15);\n",
              "      fill: #174EA6;\n",
              "    }\n",
              "\n",
              "    [theme=dark] .colab-df-convert {\n",
              "      background-color: #3B4455;\n",
              "      fill: #D2E3FC;\n",
              "    }\n",
              "\n",
              "    [theme=dark] .colab-df-convert:hover {\n",
              "      background-color: #434B5C;\n",
              "      box-shadow: 0px 1px 3px 1px rgba(0, 0, 0, 0.15);\n",
              "      filter: drop-shadow(0px 1px 2px rgba(0, 0, 0, 0.3));\n",
              "      fill: #FFFFFF;\n",
              "    }\n",
              "  </style>\n",
              "\n",
              "      <script>\n",
              "        const buttonEl =\n",
              "          document.querySelector('#df-6b050763-225d-4bfe-b4eb-10dfb45d39e0 button.colab-df-convert');\n",
              "        buttonEl.style.display =\n",
              "          google.colab.kernel.accessAllowed ? 'block' : 'none';\n",
              "\n",
              "        async function convertToInteractive(key) {\n",
              "          const element = document.querySelector('#df-6b050763-225d-4bfe-b4eb-10dfb45d39e0');\n",
              "          const dataTable =\n",
              "            await google.colab.kernel.invokeFunction('convertToInteractive',\n",
              "                                                     [key], {});\n",
              "          if (!dataTable) return;\n",
              "\n",
              "          const docLinkHtml = 'Like what you see? Visit the ' +\n",
              "            '<a target=\"_blank\" href=https://colab.research.google.com/notebooks/data_table.ipynb>data table notebook</a>'\n",
              "            + ' to learn more about interactive tables.';\n",
              "          element.innerHTML = '';\n",
              "          dataTable['output_type'] = 'display_data';\n",
              "          await google.colab.output.renderOutput(dataTable, element);\n",
              "          const docLink = document.createElement('div');\n",
              "          docLink.innerHTML = docLinkHtml;\n",
              "          element.appendChild(docLink);\n",
              "        }\n",
              "      </script>\n",
              "    </div>\n",
              "  </div>\n",
              "  "
            ]
          },
          "metadata": {},
          "execution_count": 25
        }
      ]
    },
    {
      "cell_type": "markdown",
      "source": [
        "# Analyze: \n",
        "\n",
        "### 1) Show the relationship between airline on time performance and the major CASM buckets of Pilot Costs and Maintenance"
      ],
      "metadata": {
        "id": "1sG_XTyuwi6N"
      }
    },
    {
      "cell_type": "markdown",
      "source": [
        "### EDA"
      ],
      "metadata": {
        "id": "5EvQtFRpRidH"
      }
    },
    {
      "cell_type": "markdown",
      "source": [
        "#### First, we will compare statistics across 5 airlines."
      ],
      "metadata": {
        "id": "_rf2X0MnRtxP"
      }
    },
    {
      "cell_type": "code",
      "source": [
        "sns.boxplot(x=data['airline'], y=data['pc_delay'])"
      ],
      "metadata": {
        "colab": {
          "base_uri": "https://localhost:8080/",
          "height": 297
        },
        "id": "r527NnznRkh_",
        "outputId": "e195a865-ba21-4f17-92e8-c24936fefd5b"
      },
      "execution_count": null,
      "outputs": [
        {
          "output_type": "execute_result",
          "data": {
            "text/plain": [
              "<matplotlib.axes._subplots.AxesSubplot at 0x7f13ce5c4710>"
            ]
          },
          "metadata": {},
          "execution_count": 26
        },
        {
          "output_type": "display_data",
          "data": {
            "text/plain": [
              "<Figure size 432x288 with 1 Axes>"
            ],
            "image/png": "[encoded data removed]"
          },
          "metadata": {
            "needs_background": "light"
          }
        }
      ]
    },
    {
      "cell_type": "markdown",
      "source": [
        "** Percentage of delay:"
      ],
      "metadata": {
        "id": "ocKdlhcgTtIj"
      }
    },
    {
      "cell_type": "markdown",
      "source": [
        "As we can see from the box plot, Alaska airline has the widest spread of delay. Delta and Alaska have a similar lowest average of delay percentage at around 17%. Given all factors the same, American Airlines have the highest chance of delay at 21% and Delta is the best choice for lowest chance of delay."
      ],
      "metadata": {
        "id": "ZGGgpHryR2Hu"
      }
    },
    {
      "cell_type": "markdown",
      "source": [
        "** CASM Pilot"
      ],
      "metadata": {
        "id": "0UEvk6lSTyO3"
      }
    },
    {
      "cell_type": "code",
      "source": [
        "sns.boxplot(x=data['airline'], y=data['CASM_Pilot'])"
      ],
      "metadata": {
        "colab": {
          "base_uri": "https://localhost:8080/",
          "height": 297
        },
        "id": "HKoNLJclT0hE",
        "outputId": "dd34906c-ab5d-4c05-ccba-312019033376"
      },
      "execution_count": null,
      "outputs": [
        {
          "output_type": "execute_result",
          "data": {
            "text/plain": [
              "<matplotlib.axes._subplots.AxesSubplot at 0x7f13ce5a6990>"
            ]
          },
          "metadata": {},
          "execution_count": 27
        },
        {
          "output_type": "display_data",
          "data": {
            "text/plain": [
              "<Figure size 432x288 with 1 Axes>"
            ],
            "image/png": "[encoded data removed]"
          },
          "metadata": {
            "needs_background": "light"
          }
        }
      ]
    },
    {
      "cell_type": "markdown",
      "source": [
        "United Airlines is the most cost efficient in terms of Pilot cost per ASM. Southwest has the highest Pilot cost per ASM"
      ],
      "metadata": {
        "id": "L7ruJdwPT_zv"
      }
    },
    {
      "cell_type": "markdown",
      "source": [
        "** CASM Maintenance"
      ],
      "metadata": {
        "id": "3fStdRQWWTW5"
      }
    },
    {
      "cell_type": "code",
      "source": [
        "sns.boxplot(x=data['airline'], y=data['CASM_Maintenance'])"
      ],
      "metadata": {
        "colab": {
          "base_uri": "https://localhost:8080/",
          "height": 297
        },
        "id": "7a6OVs9oTiPD",
        "outputId": "3f71c38c-e268-4ffd-c9c4-a9125bb5e0f5"
      },
      "execution_count": null,
      "outputs": [
        {
          "output_type": "execute_result",
          "data": {
            "text/plain": [
              "<matplotlib.axes._subplots.AxesSubplot at 0x7f13ce45d490>"
            ]
          },
          "metadata": {},
          "execution_count": 28
        },
        {
          "output_type": "display_data",
          "data": {
            "text/plain": [
              "<Figure size 432x288 with 1 Axes>"
            ],
            "image/png": "[encoded data removed]"
          },
          "metadata": {
            "needs_background": "light"
          }
        }
      ]
    },
    {
      "cell_type": "markdown",
      "source": [
        "Delta and Alaska are the most cost efficient in terms of Maintenance cost per ASM. American airline has the highest Maintenance cost per ASM. This could be correlated with its highest chance of delay which we will explore later in our analysis.\n",
        " "
      ],
      "metadata": {
        "id": "SdOGx6NMWnt9"
      }
    },
    {
      "cell_type": "markdown",
      "source": [
        "### 2) Compute the change in OTP from one period to the next and the change in CASM for both Pilot and Maintenance.\n",
        "\n",
        "#### Now we will look at the trend over the years considered for each airline."
      ],
      "metadata": {
        "id": "MG3JKAkhXEsJ"
      }
    },
    {
      "cell_type": "code",
      "source": [
        "aa_plot = data.loc[data['airline'] == 'american_airline']\n",
        "delta_plot = data.loc[data['airline'] == 'delta']\n",
        "united_plot = data.loc[data['airline'] == 'united']\n",
        "sw_plot = data.loc[data['airline'] == 'southwest']\n",
        "alaska_plot = data.loc[data['airline'] == 'alaska']\n"
      ],
      "metadata": {
        "id": "irbSL748Yil-"
      },
      "execution_count": null,
      "outputs": []
    },
    {
      "cell_type": "markdown",
      "source": [
        "American Airline:"
      ],
      "metadata": {
        "id": "reBoFQnWjpsH"
      }
    },
    {
      "cell_type": "code",
      "source": [
        "# Importing packages\n",
        "import matplotlib.pyplot as plt\n",
        "\n",
        "# Define data values\n",
        "x = aa_plot['Year']\n",
        "y = aa_plot['CASM_Pilot']\n",
        "z = aa_plot['CASM_Maintenance']\n",
        "c = aa_plot['pc_delay']/100\n",
        "\n",
        "\n",
        "# Plot a simple line chart\n",
        "plt.plot(x, y, 'g', label='CASM_Pilot')\n",
        "\n",
        "# Plot another line on the same chart/graph\n",
        "plt.plot(x, z, 'r', label='CASM_Maintenance')\n",
        "\n",
        "# Plot another line on the same chart/graph\n",
        "plt.plot(x, c, 'b', label='PC_Delay')\n",
        "\n",
        "plt.legend()\n",
        "plt.title(\"American Airline\")\n",
        "plt.show()\n",
        "\n"
      ],
      "metadata": {
        "colab": {
          "base_uri": "https://localhost:8080/",
          "height": 281
        },
        "id": "JSbpEU0DeP0o",
        "outputId": "fa2219d2-596b-4701-b57c-7f93fc96cc00"
      },
      "execution_count": null,
      "outputs": [
        {
          "output_type": "display_data",
          "data": {
            "text/plain": [
              "<Figure size 432x288 with 1 Axes>"
            ],
            "image/png": "[encoded data removed]"
          },
          "metadata": {
            "needs_background": "light"
          }
        }
      ]
    },
    {
      "cell_type": "markdown",
      "source": [
        "Delta"
      ],
      "metadata": {
        "id": "hUIDSNHaj4XO"
      }
    },
    {
      "cell_type": "code",
      "source": [
        "# Define data values\n",
        "x = delta_plot['Year']\n",
        "y = delta_plot['CASM_Pilot']\n",
        "z = delta_plot['CASM_Maintenance']\n",
        "c = delta_plot['pc_delay']/100\n",
        "\n",
        "\n",
        "# Plot a simple line chart\n",
        "plt.plot(x, y, 'g', label='CASM_Pilot')\n",
        "\n",
        "# Plot another line on the same chart/graph\n",
        "plt.plot(x, z, 'r', label='CASM_Maintenance')\n",
        "\n",
        "# Plot another line on the same chart/graph\n",
        "plt.plot(x, c, 'b', label='PC_Delay')\n",
        "\n",
        "plt.legend()\n",
        "plt.title(\"Delta\")\n",
        "plt.show()"
      ],
      "metadata": {
        "colab": {
          "base_uri": "https://localhost:8080/",
          "height": 281
        },
        "id": "BZzvoN9iky_o",
        "outputId": "f5615784-263d-47ab-9f22-f4b73d54293d"
      },
      "execution_count": null,
      "outputs": [
        {
          "output_type": "display_data",
          "data": {
            "text/plain": [
              "<Figure size 432x288 with 1 Axes>"
            ],
            "image/png": "[encoded data removed]"
          },
          "metadata": {
            "needs_background": "light"
          }
        }
      ]
    },
    {
      "cell_type": "markdown",
      "source": [
        "United"
      ],
      "metadata": {
        "id": "tbsex35Wj8Sz"
      }
    },
    {
      "cell_type": "code",
      "source": [
        "# Define data values\n",
        "x = united_plot['Year']\n",
        "y = united_plot['CASM_Pilot']\n",
        "z = united_plot['CASM_Maintenance']\n",
        "c = united_plot['pc_delay']/100\n",
        "\n",
        "\n",
        "# Plot a simple line chart\n",
        "plt.plot(x, y, 'g', label='CASM_Pilot')\n",
        "\n",
        "# Plot another line on the same chart/graph\n",
        "plt.plot(x, z, 'r', label='CASM_Maintenance')\n",
        "\n",
        "# Plot another line on the same chart/graph\n",
        "plt.plot(x, c, 'b', label='PC_Delay')\n",
        "\n",
        "plt.legend()\n",
        "plt.title(\"United\")\n",
        "plt.show()"
      ],
      "metadata": {
        "colab": {
          "base_uri": "https://localhost:8080/",
          "height": 281
        },
        "id": "GRq51cpvlTbV",
        "outputId": "07b7a4bb-a735-403b-d162-9d8593b4b976"
      },
      "execution_count": null,
      "outputs": [
        {
          "output_type": "display_data",
          "data": {
            "text/plain": [
              "<Figure size 432x288 with 1 Axes>"
            ],
            "image/png": "[encoded data removed]"
          },
          "metadata": {
            "needs_background": "light"
          }
        }
      ]
    },
    {
      "cell_type": "markdown",
      "source": [
        "Southwest"
      ],
      "metadata": {
        "id": "oDSu_lxCj9Dy"
      }
    },
    {
      "cell_type": "code",
      "source": [
        "# Define data values\n",
        "x = sw_plot['Year']\n",
        "y = sw_plot['CASM_Pilot']\n",
        "z = sw_plot['CASM_Maintenance']\n",
        "c = sw_plot['pc_delay']/100\n",
        "\n",
        "\n",
        "# Plot a simple line chart\n",
        "plt.plot(x, y, 'g', label='CASM_Pilot')\n",
        "\n",
        "# Plot another line on the same chart/graph\n",
        "plt.plot(x, z, 'r', label='CASM_Maintenance')\n",
        "\n",
        "# Plot another line on the same chart/graph\n",
        "plt.plot(x, c, 'b', label='PC_Delay')\n",
        "\n",
        "plt.legend()\n",
        "plt.title(\"Southwest\")\n",
        "plt.show()"
      ],
      "metadata": {
        "colab": {
          "base_uri": "https://localhost:8080/",
          "height": 281
        },
        "id": "V5SX687elbBZ",
        "outputId": "e987bd83-0d1f-4be9-efc2-8ce1a82bc0fc"
      },
      "execution_count": null,
      "outputs": [
        {
          "output_type": "display_data",
          "data": {
            "text/plain": [
              "<Figure size 432x288 with 1 Axes>"
            ],
            "image/png": "[encoded data removed]"
          },
          "metadata": {
            "needs_background": "light"
          }
        }
      ]
    },
    {
      "cell_type": "markdown",
      "source": [
        "Alaska"
      ],
      "metadata": {
        "id": "ubwigCyIj_YW"
      }
    },
    {
      "cell_type": "code",
      "source": [
        "# Define data values\n",
        "x = alaska_plot['Year']\n",
        "y = alaska_plot['CASM_Pilot']\n",
        "z = alaska_plot['CASM_Maintenance']\n",
        "c = alaska_plot['pc_delay']/100\n",
        "\n",
        "\n",
        "# Plot a simple line chart\n",
        "plt.plot(x, y, 'g', label='CASM_Pilot')\n",
        "\n",
        "# Plot another line on the same chart/graph\n",
        "plt.plot(x, z, 'r', label='CASM_Maintenance')\n",
        "\n",
        "# Plot another line on the same chart/graph\n",
        "plt.plot(x, c, 'b', label='PC_Delay')\n",
        "\n",
        "plt.legend()\n",
        "plt.title(\"Alaska\")\n",
        "plt.show()"
      ],
      "metadata": {
        "colab": {
          "base_uri": "https://localhost:8080/",
          "height": 281
        },
        "id": "9tyh3aKeliQJ",
        "outputId": "d6f03bc8-36e4-4a2f-e7f6-43513a5fb147"
      },
      "execution_count": null,
      "outputs": [
        {
          "output_type": "display_data",
          "data": {
            "text/plain": [
              "<Figure size 432x288 with 1 Axes>"
            ],
            "image/png": "[encoded data removed]"
          },
          "metadata": {
            "needs_background": "light"
          }
        }
      ]
    },
    {
      "cell_type": "markdown",
      "source": [
        "###Scatter and line plot for percent_delays with CASM_Pilot and CASM_Maintenance"
      ],
      "metadata": {
        "id": "GpL9yEbcS9yl"
      }
    },
    {
      "cell_type": "code",
      "source": [
        "plt.figure(figsize=(10, 7))\n",
        "sns.scatterplot(x=data['pc_delay'],  \n",
        "                y=data['CASM_Pilot'],\n",
        "                hue=data['airline']).set(title=                \n",
        "                'Scatter plot of Percent_delays versus CASM_Pilot') \n",
        "plt.show()"
      ],
      "metadata": {
        "colab": {
          "base_uri": "https://localhost:8080/",
          "height": 458
        },
        "id": "dj1TT_xYS_NO",
        "outputId": "8d6e92e4-acb9-470d-c3d5-5b88934d2d6c"
      },
      "execution_count": null,
      "outputs": [
        {
          "output_type": "display_data",
          "data": {
            "text/plain": [
              "<Figure size 720x504 with 1 Axes>"
            ],
            "image/png": "[encoded data removed]"
          },
          "metadata": {
            "needs_background": "light"
          }
        }
      ]
    },
    {
      "cell_type": "code",
      "source": [
        "plt.figure(figsize=(10, 7))\n",
        "sns.scatterplot(x=data['pc_delay'],  \n",
        "                y=data['CASM_Maintenance'],\n",
        "                hue=data['airline']).set(title=                \n",
        "                'Scatter plot of Percent_delays versus CASM_Maintenance') \n",
        "plt.show()"
      ],
      "metadata": {
        "colab": {
          "base_uri": "https://localhost:8080/",
          "height": 459
        },
        "id": "-GeqKyPoS_Qr",
        "outputId": "eeaf7fa4-abbe-4e87-d6f7-4e62c03200b4"
      },
      "execution_count": null,
      "outputs": [
        {
          "output_type": "display_data",
          "data": {
            "text/plain": [
              "<Figure size 720x504 with 1 Axes>"
            ],
            "image/png": "[encoded data removed]"
          },
          "metadata": {
            "needs_background": "light"
          }
        }
      ]
    },
    {
      "cell_type": "markdown",
      "source": [
        "### Check correlation"
      ],
      "metadata": {
        "id": "6tE0Hluf6nVE"
      }
    },
    {
      "cell_type": "code",
      "source": [
        "cor = data.iloc[:,[2,3,8]]"
      ],
      "metadata": {
        "id": "CDUBNyH52XNG"
      },
      "execution_count": null,
      "outputs": []
    },
    {
      "cell_type": "code",
      "source": [
        "cor['CASM_Pilot'] = cor['CASM_Pilot'].astype(float)\n",
        "cor['CASM_Maintenance'] = cor['CASM_Maintenance'].astype(float)"
      ],
      "metadata": {
        "colab": {
          "base_uri": "https://localhost:8080/"
        },
        "id": "jZ2VhyGWA8Zw",
        "outputId": "04f15c8d-7b21-4ea3-d4ec-58c5f92e55f7"
      },
      "execution_count": null,
      "outputs": [
        {
          "output_type": "stream",
          "name": "stderr",
          "text": [
            "/usr/local/lib/python3.7/dist-packages/ipykernel_launcher.py:1: SettingWithCopyWarning: \n",
            "A value is trying to be set on a copy of a slice from a DataFrame.\n",
            "Try using .loc[row_indexer,col_indexer] = value instead\n",
            "\n",
            "See the caveats in the documentation: https://pandas.pydata.org/pandas-docs/stable/user_guide/indexing.html#returning-a-view-versus-a-copy\n",
            "  \"\"\"Entry point for launching an IPython kernel.\n",
            "/usr/local/lib/python3.7/dist-packages/ipykernel_launcher.py:2: SettingWithCopyWarning: \n",
            "A value is trying to be set on a copy of a slice from a DataFrame.\n",
            "Try using .loc[row_indexer,col_indexer] = value instead\n",
            "\n",
            "See the caveats in the documentation: https://pandas.pydata.org/pandas-docs/stable/user_guide/indexing.html#returning-a-view-versus-a-copy\n",
            "  \n"
          ]
        }
      ]
    },
    {
      "cell_type": "code",
      "source": [
        "plt.figure(figsize=(15,6))\n",
        "sns.heatmap(cor.corr(method = \"pearson\").round(2), cbar=0, linewidths=2,vmax=1, vmin=0, square=True, cmap='Blues')\n",
        "plt.show()"
      ],
      "metadata": {
        "colab": {
          "base_uri": "https://localhost:8080/",
          "height": 375
        },
        "id": "wFY4LcmSk1s7",
        "outputId": "3992089a-df7c-4e64-884b-b29bff148fb1"
      },
      "execution_count": null,
      "outputs": [
        {
          "output_type": "display_data",
          "data": {
            "text/plain": [
              "<Figure size 1080x432 with 1 Axes>"
            ],
            "image/png": "[encoded data removed]"
          },
          "metadata": {
            "needs_background": "light"
          }
        }
      ]
    },
    {
      "cell_type": "markdown",
      "source": [
        "The heatmap above shows that CASM_Pilot has higher correlation with delay percentage than CASM_Maintenance. We will analyse more in the below models."
      ],
      "metadata": {
        "id": "R5axpDlKD8kk"
      }
    },
    {
      "cell_type": "markdown",
      "source": [
        "## Analysing using different Models."
      ],
      "metadata": {
        "id": "pWhMKnYLgxyA"
      }
    },
    {
      "cell_type": "markdown",
      "source": [
        "### Null hypothesis (Ho): On-time performance does not affect the cost per seat mile(CASM) of Pilot and Maintenance"
      ],
      "metadata": {
        "id": "Gf3zNIcnzInp"
      }
    },
    {
      "cell_type": "markdown",
      "source": [
        "### 1) PooledOLS Model"
      ],
      "metadata": {
        "id": "HjcnG4LFw8o3"
      }
    },
    {
      "cell_type": "code",
      "source": [
        "data = pd.read_csv(datafolder/'df_airline.csv')"
      ],
      "metadata": {
        "id": "y1zXl44CWnGS"
      },
      "execution_count": null,
      "outputs": []
    },
    {
      "cell_type": "code",
      "source": [
        "import statsmodels.api as sm"
      ],
      "metadata": {
        "id": "Z3tGR01uxhy9"
      },
      "execution_count": null,
      "outputs": []
    },
    {
      "cell_type": "code",
      "source": [
        "data.head()"
      ],
      "metadata": {
        "colab": {
          "base_uri": "https://localhost:8080/",
          "height": 262
        },
        "id": "SZn32dOKLrxo",
        "outputId": "bb7d1575-129c-4cad-c19e-6cd44d5525b7"
      },
      "execution_count": null,
      "outputs": [
        {
          "output_type": "execute_result",
          "data": {
            "text/plain": [
              "  airline  year  CASM_Pilot  CASM_Maintenance  CASM_Pilot2  CASM_Maintenance2  \\\n",
              "0      aa  2004    1.153816          1.074108     1.331292           1.153708   \n",
              "1      aa  2005    1.114248          1.081270     1.241548           1.169145   \n",
              "2      aa  2006    1.096469          1.135995     1.202245           1.290485   \n",
              "3      aa  2007    1.107587          1.154670     1.226748           1.333263   \n",
              "4      aa  2008    1.115502          1.336820     1.244345           1.787087   \n",
              "\n",
              "   CASM_Pilot_CASM_Maintenance    arr_flights  pc_delay  CASM_Pilot_change  \\\n",
              "0                     1.239323  698548.000000 -0.212083                NaN   \n",
              "1                     1.204803  674225.085698 -0.214352          -0.034293   \n",
              "2                     1.245584  643597.000000 -0.226171          -0.015956   \n",
              "3                     1.278897  633857.000000 -0.281024           0.010139   \n",
              "4                     1.491225  604885.000000 -0.269950           0.007147   \n",
              "\n",
              "   CASM_Maintenance_change  pc_delay_change  \n",
              "0                      NaN              NaN  \n",
              "1                 0.006668         0.010699  \n",
              "2                 0.050612         0.055139  \n",
              "3                 0.016439         0.242528  \n",
              "4                 0.157750        -0.039405  "
            ],
            "text/html": [
              "\n",
              "  <div id=\"df-cf87a4f1-66cb-4bff-a091-185a429421cf\">\n",
              "    <div class=\"colab-df-container\">\n",
              "      <div>\n",
              "<style scoped>\n",
              "    .dataframe tbody tr th:only-of-type {\n",
              "        vertical-align: middle;\n",
              "    }\n",
              "\n",
              "    .dataframe tbody tr th {\n",
              "        vertical-align: top;\n",
              "    }\n",
              "\n",
              "    .dataframe thead th {\n",
              "        text-align: right;\n",
              "    }\n",
              "</style>\n",
              "<table border=\"1\" class=\"dataframe\">\n",
              "  <thead>\n",
              "    <tr style=\"text-align: right;\">\n",
              "      <th></th>\n",
              "      <th>airline</th>\n",
              "      <th>year</th>\n",
              "      <th>CASM_Pilot</th>\n",
              "      <th>CASM_Maintenance</th>\n",
              "      <th>CASM_Pilot2</th>\n",
              "      <th>CASM_Maintenance2</th>\n",
              "      <th>CASM_Pilot_CASM_Maintenance</th>\n",
              "      <th>arr_flights</th>\n",
              "      <th>pc_delay</th>\n",
              "      <th>CASM_Pilot_change</th>\n",
              "      <th>CASM_Maintenance_change</th>\n",
              "      <th>pc_delay_change</th>\n",
              "    </tr>\n",
              "  </thead>\n",
              "  <tbody>\n",
              "    <tr>\n",
              "      <th>0</th>\n",
              "      <td>aa</td>\n",
              "      <td>2004</td>\n",
              "      <td>1.153816</td>\n",
              "      <td>1.074108</td>\n",
              "      <td>1.331292</td>\n",
              "      <td>1.153708</td>\n",
              "      <td>1.239323</td>\n",
              "      <td>698548.000000</td>\n",
              "      <td>-0.212083</td>\n",
              "      <td>NaN</td>\n",
              "      <td>NaN</td>\n",
              "      <td>NaN</td>\n",
              "    </tr>\n",
              "    <tr>\n",
              "      <th>1</th>\n",
              "      <td>aa</td>\n",
              "      <td>2005</td>\n",
              "      <td>1.114248</td>\n",
              "      <td>1.081270</td>\n",
              "      <td>1.241548</td>\n",
              "      <td>1.169145</td>\n",
              "      <td>1.204803</td>\n",
              "      <td>674225.085698</td>\n",
              "      <td>-0.214352</td>\n",
              "      <td>-0.034293</td>\n",
              "      <td>0.006668</td>\n",
              "      <td>0.010699</td>\n",
              "    </tr>\n",
              "    <tr>\n",
              "      <th>2</th>\n",
              "      <td>aa</td>\n",
              "      <td>2006</td>\n",
              "      <td>1.096469</td>\n",
              "      <td>1.135995</td>\n",
              "      <td>1.202245</td>\n",
              "      <td>1.290485</td>\n",
              "      <td>1.245584</td>\n",
              "      <td>643597.000000</td>\n",
              "      <td>-0.226171</td>\n",
              "      <td>-0.015956</td>\n",
              "      <td>0.050612</td>\n",
              "      <td>0.055139</td>\n",
              "    </tr>\n",
              "    <tr>\n",
              "      <th>3</th>\n",
              "      <td>aa</td>\n",
              "      <td>2007</td>\n",
              "      <td>1.107587</td>\n",
              "      <td>1.154670</td>\n",
              "      <td>1.226748</td>\n",
              "      <td>1.333263</td>\n",
              "      <td>1.278897</td>\n",
              "      <td>633857.000000</td>\n",
              "      <td>-0.281024</td>\n",
              "      <td>0.010139</td>\n",
              "      <td>0.016439</td>\n",
              "      <td>0.242528</td>\n",
              "    </tr>\n",
              "    <tr>\n",
              "      <th>4</th>\n",
              "      <td>aa</td>\n",
              "      <td>2008</td>\n",
              "      <td>1.115502</td>\n",
              "      <td>1.336820</td>\n",
              "      <td>1.244345</td>\n",
              "      <td>1.787087</td>\n",
              "      <td>1.491225</td>\n",
              "      <td>604885.000000</td>\n",
              "      <td>-0.269950</td>\n",
              "      <td>0.007147</td>\n",
              "      <td>0.157750</td>\n",
              "      <td>-0.039405</td>\n",
              "    </tr>\n",
              "  </tbody>\n",
              "</table>\n",
              "</div>\n",
              "      <button class=\"colab-df-convert\" onclick=\"convertToInteractive('df-cf87a4f1-66cb-4bff-a091-185a429421cf')\"\n",
              "              title=\"Convert this dataframe to an interactive table.\"\n",
              "              style=\"display:none;\">\n",
              "        \n",
              "  <svg xmlns=\"http://www.w3.org/2000/svg\" height=\"24px\"viewBox=\"0 0 24 24\"\n",
              "       width=\"24px\">\n",
              "    <path d=\"M0 0h24v24H0V0z\" fill=\"none\"/>\n",
              "    <path d=\"M18.56 5.44l.94 2.06.94-2.06 2.06-.94-2.06-.94-.94-2.06-.94 2.06-2.06.94zm-11 1L8.5 8.5l.94-2.06 2.06-.94-2.06-.94L8.5 2.5l-.94 2.06-2.06.94zm10 10l.94 2.06.94-2.06 2.06-.94-2.06-.94-.94-2.06-.94 2.06-2.06.94z\"/><path d=\"M17.41 7.96l-1.37-1.37c-.4-.4-.92-.59-1.43-.59-.52 0-1.04.2-1.43.59L10.3 9.45l-7.72 7.72c-.78.78-.78 2.05 0 2.83L4 21.41c.39.39.9.59 1.41.59.51 0 1.02-.2 1.41-.59l7.78-7.78 2.81-2.81c.8-.78.8-2.07 0-2.86zM5.41 20L4 18.59l7.72-7.72 1.47 1.35L5.41 20z\"/>\n",
              "  </svg>\n",
              "      </button>\n",
              "      \n",
              "  <style>\n",
              "    .colab-df-container {\n",
              "      display:flex;\n",
              "      flex-wrap:wrap;\n",
              "      gap: 12px;\n",
              "    }\n",
              "\n",
              "    .colab-df-convert {\n",
              "      background-color: #E8F0FE;\n",
              "      border: none;\n",
              "      border-radius: 50%;\n",
              "      cursor: pointer;\n",
              "      display: none;\n",
              "      fill: #1967D2;\n",
              "      height: 32px;\n",
              "      padding: 0 0 0 0;\n",
              "      width: 32px;\n",
              "    }\n",
              "\n",
              "    .colab-df-convert:hover {\n",
              "      background-color: #E2EBFA;\n",
              "      box-shadow: 0px 1px 2px rgba(60, 64, 67, 0.3), 0px 1px 3px 1px rgba(60, 64, 67, 0.15);\n",
              "      fill: #174EA6;\n",
              "    }\n",
              "\n",
              "    [theme=dark] .colab-df-convert {\n",
              "      background-color: #3B4455;\n",
              "      fill: #D2E3FC;\n",
              "    }\n",
              "\n",
              "    [theme=dark] .colab-df-convert:hover {\n",
              "      background-color: #434B5C;\n",
              "      box-shadow: 0px 1px 3px 1px rgba(0, 0, 0, 0.15);\n",
              "      filter: drop-shadow(0px 1px 2px rgba(0, 0, 0, 0.3));\n",
              "      fill: #FFFFFF;\n",
              "    }\n",
              "  </style>\n",
              "\n",
              "      <script>\n",
              "        const buttonEl =\n",
              "          document.querySelector('#df-cf87a4f1-66cb-4bff-a091-185a429421cf button.colab-df-convert');\n",
              "        buttonEl.style.display =\n",
              "          google.colab.kernel.accessAllowed ? 'block' : 'none';\n",
              "\n",
              "        async function convertToInteractive(key) {\n",
              "          const element = document.querySelector('#df-cf87a4f1-66cb-4bff-a091-185a429421cf');\n",
              "          const dataTable =\n",
              "            await google.colab.kernel.invokeFunction('convertToInteractive',\n",
              "                                                     [key], {});\n",
              "          if (!dataTable) return;\n",
              "\n",
              "          const docLinkHtml = 'Like what you see? Visit the ' +\n",
              "            '<a target=\"_blank\" href=https://colab.research.google.com/notebooks/data_table.ipynb>data table notebook</a>'\n",
              "            + ' to learn more about interactive tables.';\n",
              "          element.innerHTML = '';\n",
              "          dataTable['output_type'] = 'display_data';\n",
              "          await google.colab.output.renderOutput(dataTable, element);\n",
              "          const docLink = document.createElement('div');\n",
              "          docLink.innerHTML = docLinkHtml;\n",
              "          element.appendChild(docLink);\n",
              "        }\n",
              "      </script>\n",
              "    </div>\n",
              "  </div>\n",
              "  "
            ]
          },
          "metadata": {},
          "execution_count": 69
        }
      ]
    },
    {
      "cell_type": "code",
      "source": [
        "data['Log_CASM_Maintenance'] = np.log((data['CASM_Maintenance']).astype(float))"
      ],
      "metadata": {
        "id": "rLaUHoXmTKIU"
      },
      "execution_count": null,
      "outputs": []
    },
    {
      "cell_type": "code",
      "source": [
        "data['Log_CASM_Pilot'] = np.log((data['CASM_Pilot']).astype(float))"
      ],
      "metadata": {
        "id": "LUR-rxUlTTdx"
      },
      "execution_count": null,
      "outputs": []
    },
    {
      "cell_type": "code",
      "source": [
        "dataOLSnew = data.set_index([\"airline\",\"year\"])"
      ],
      "metadata": {
        "id": "KwRPpLN5Luq6"
      },
      "execution_count": null,
      "outputs": []
    },
    {
      "cell_type": "code",
      "source": [
        "dataOLSnew.head()"
      ],
      "metadata": {
        "colab": {
          "base_uri": "https://localhost:8080/",
          "height": 292
        },
        "id": "GKADBHpRLus9",
        "outputId": "be4f091e-4c51-45f2-833a-14d50b432197"
      },
      "execution_count": null,
      "outputs": [
        {
          "output_type": "execute_result",
          "data": {
            "text/plain": [
              "              CASM_Pilot  CASM_Maintenance  CASM_Pilot2  CASM_Maintenance2  \\\n",
              "airline year                                                                 \n",
              "aa      2004    1.153816          1.074108     1.331292           1.153708   \n",
              "        2005    1.114248          1.081270     1.241548           1.169145   \n",
              "        2006    1.096469          1.135995     1.202245           1.290485   \n",
              "        2007    1.107587          1.154670     1.226748           1.333263   \n",
              "        2008    1.115502          1.336820     1.244345           1.787087   \n",
              "\n",
              "              CASM_Pilot_CASM_Maintenance    arr_flights  pc_delay  \\\n",
              "airline year                                                         \n",
              "aa      2004                     1.239323  698548.000000 -0.212083   \n",
              "        2005                     1.204803  674225.085698 -0.214352   \n",
              "        2006                     1.245584  643597.000000 -0.226171   \n",
              "        2007                     1.278897  633857.000000 -0.281024   \n",
              "        2008                     1.491225  604885.000000 -0.269950   \n",
              "\n",
              "              CASM_Pilot_change  CASM_Maintenance_change  pc_delay_change  \\\n",
              "airline year                                                                \n",
              "aa      2004                NaN                      NaN              NaN   \n",
              "        2005          -0.034293                 0.006668         0.010699   \n",
              "        2006          -0.015956                 0.050612         0.055139   \n",
              "        2007           0.010139                 0.016439         0.242528   \n",
              "        2008           0.007147                 0.157750        -0.039405   \n",
              "\n",
              "              Log_CASM_Maintenance  Log_CASM_Pilot  \n",
              "airline year                                        \n",
              "aa      2004              0.071490        0.143075  \n",
              "        2005              0.078136        0.108180  \n",
              "        2006              0.127509        0.092095  \n",
              "        2007              0.143815        0.102183  \n",
              "        2008              0.290293        0.109305  "
            ],
            "text/html": [
              "\n",
              "  <div id=\"df-39c6fe31-780b-4c44-9413-db3f6ed093e3\">\n",
              "    <div class=\"colab-df-container\">\n",
              "      <div>\n",
              "<style scoped>\n",
              "    .dataframe tbody tr th:only-of-type {\n",
              "        vertical-align: middle;\n",
              "    }\n",
              "\n",
              "    .dataframe tbody tr th {\n",
              "        vertical-align: top;\n",
              "    }\n",
              "\n",
              "    .dataframe thead th {\n",
              "        text-align: right;\n",
              "    }\n",
              "</style>\n",
              "<table border=\"1\" class=\"dataframe\">\n",
              "  <thead>\n",
              "    <tr style=\"text-align: right;\">\n",
              "      <th></th>\n",
              "      <th></th>\n",
              "      <th>CASM_Pilot</th>\n",
              "      <th>CASM_Maintenance</th>\n",
              "      <th>CASM_Pilot2</th>\n",
              "      <th>CASM_Maintenance2</th>\n",
              "      <th>CASM_Pilot_CASM_Maintenance</th>\n",
              "      <th>arr_flights</th>\n",
              "      <th>pc_delay</th>\n",
              "      <th>CASM_Pilot_change</th>\n",
              "      <th>CASM_Maintenance_change</th>\n",
              "      <th>pc_delay_change</th>\n",
              "      <th>Log_CASM_Maintenance</th>\n",
              "      <th>Log_CASM_Pilot</th>\n",
              "    </tr>\n",
              "    <tr>\n",
              "      <th>airline</th>\n",
              "      <th>year</th>\n",
              "      <th></th>\n",
              "      <th></th>\n",
              "      <th></th>\n",
              "      <th></th>\n",
              "      <th></th>\n",
              "      <th></th>\n",
              "      <th></th>\n",
              "      <th></th>\n",
              "      <th></th>\n",
              "      <th></th>\n",
              "      <th></th>\n",
              "      <th></th>\n",
              "    </tr>\n",
              "  </thead>\n",
              "  <tbody>\n",
              "    <tr>\n",
              "      <th rowspan=\"5\" valign=\"top\">aa</th>\n",
              "      <th>2004</th>\n",
              "      <td>1.153816</td>\n",
              "      <td>1.074108</td>\n",
              "      <td>1.331292</td>\n",
              "      <td>1.153708</td>\n",
              "      <td>1.239323</td>\n",
              "      <td>698548.000000</td>\n",
              "      <td>-0.212083</td>\n",
              "      <td>NaN</td>\n",
              "      <td>NaN</td>\n",
              "      <td>NaN</td>\n",
              "      <td>0.071490</td>\n",
              "      <td>0.143075</td>\n",
              "    </tr>\n",
              "    <tr>\n",
              "      <th>2005</th>\n",
              "      <td>1.114248</td>\n",
              "      <td>1.081270</td>\n",
              "      <td>1.241548</td>\n",
              "      <td>1.169145</td>\n",
              "      <td>1.204803</td>\n",
              "      <td>674225.085698</td>\n",
              "      <td>-0.214352</td>\n",
              "      <td>-0.034293</td>\n",
              "      <td>0.006668</td>\n",
              "      <td>0.010699</td>\n",
              "      <td>0.078136</td>\n",
              "      <td>0.108180</td>\n",
              "    </tr>\n",
              "    <tr>\n",
              "      <th>2006</th>\n",
              "      <td>1.096469</td>\n",
              "      <td>1.135995</td>\n",
              "      <td>1.202245</td>\n",
              "      <td>1.290485</td>\n",
              "      <td>1.245584</td>\n",
              "      <td>643597.000000</td>\n",
              "      <td>-0.226171</td>\n",
              "      <td>-0.015956</td>\n",
              "      <td>0.050612</td>\n",
              "      <td>0.055139</td>\n",
              "      <td>0.127509</td>\n",
              "      <td>0.092095</td>\n",
              "    </tr>\n",
              "    <tr>\n",
              "      <th>2007</th>\n",
              "      <td>1.107587</td>\n",
              "      <td>1.154670</td>\n",
              "      <td>1.226748</td>\n",
              "      <td>1.333263</td>\n",
              "      <td>1.278897</td>\n",
              "      <td>633857.000000</td>\n",
              "      <td>-0.281024</td>\n",
              "      <td>0.010139</td>\n",
              "      <td>0.016439</td>\n",
              "      <td>0.242528</td>\n",
              "      <td>0.143815</td>\n",
              "      <td>0.102183</td>\n",
              "    </tr>\n",
              "    <tr>\n",
              "      <th>2008</th>\n",
              "      <td>1.115502</td>\n",
              "      <td>1.336820</td>\n",
              "      <td>1.244345</td>\n",
              "      <td>1.787087</td>\n",
              "      <td>1.491225</td>\n",
              "      <td>604885.000000</td>\n",
              "      <td>-0.269950</td>\n",
              "      <td>0.007147</td>\n",
              "      <td>0.157750</td>\n",
              "      <td>-0.039405</td>\n",
              "      <td>0.290293</td>\n",
              "      <td>0.109305</td>\n",
              "    </tr>\n",
              "  </tbody>\n",
              "</table>\n",
              "</div>\n",
              "      <button class=\"colab-df-convert\" onclick=\"convertToInteractive('df-39c6fe31-780b-4c44-9413-db3f6ed093e3')\"\n",
              "              title=\"Convert this dataframe to an interactive table.\"\n",
              "              style=\"display:none;\">\n",
              "        \n",
              "  <svg xmlns=\"http://www.w3.org/2000/svg\" height=\"24px\"viewBox=\"0 0 24 24\"\n",
              "       width=\"24px\">\n",
              "    <path d=\"M0 0h24v24H0V0z\" fill=\"none\"/>\n",
              "    <path d=\"M18.56 5.44l.94 2.06.94-2.06 2.06-.94-2.06-.94-.94-2.06-.94 2.06-2.06.94zm-11 1L8.5 8.5l.94-2.06 2.06-.94-2.06-.94L8.5 2.5l-.94 2.06-2.06.94zm10 10l.94 2.06.94-2.06 2.06-.94-2.06-.94-.94-2.06-.94 2.06-2.06.94z\"/><path d=\"M17.41 7.96l-1.37-1.37c-.4-.4-.92-.59-1.43-.59-.52 0-1.04.2-1.43.59L10.3 9.45l-7.72 7.72c-.78.78-.78 2.05 0 2.83L4 21.41c.39.39.9.59 1.41.59.51 0 1.02-.2 1.41-.59l7.78-7.78 2.81-2.81c.8-.78.8-2.07 0-2.86zM5.41 20L4 18.59l7.72-7.72 1.47 1.35L5.41 20z\"/>\n",
              "  </svg>\n",
              "      </button>\n",
              "      \n",
              "  <style>\n",
              "    .colab-df-container {\n",
              "      display:flex;\n",
              "      flex-wrap:wrap;\n",
              "      gap: 12px;\n",
              "    }\n",
              "\n",
              "    .colab-df-convert {\n",
              "      background-color: #E8F0FE;\n",
              "      border: none;\n",
              "      border-radius: 50%;\n",
              "      cursor: pointer;\n",
              "      display: none;\n",
              "      fill: #1967D2;\n",
              "      height: 32px;\n",
              "      padding: 0 0 0 0;\n",
              "      width: 32px;\n",
              "    }\n",
              "\n",
              "    .colab-df-convert:hover {\n",
              "      background-color: #E2EBFA;\n",
              "      box-shadow: 0px 1px 2px rgba(60, 64, 67, 0.3), 0px 1px 3px 1px rgba(60, 64, 67, 0.15);\n",
              "      fill: #174EA6;\n",
              "    }\n",
              "\n",
              "    [theme=dark] .colab-df-convert {\n",
              "      background-color: #3B4455;\n",
              "      fill: #D2E3FC;\n",
              "    }\n",
              "\n",
              "    [theme=dark] .colab-df-convert:hover {\n",
              "      background-color: #434B5C;\n",
              "      box-shadow: 0px 1px 3px 1px rgba(0, 0, 0, 0.15);\n",
              "      filter: drop-shadow(0px 1px 2px rgba(0, 0, 0, 0.3));\n",
              "      fill: #FFFFFF;\n",
              "    }\n",
              "  </style>\n",
              "\n",
              "      <script>\n",
              "        const buttonEl =\n",
              "          document.querySelector('#df-39c6fe31-780b-4c44-9413-db3f6ed093e3 button.colab-df-convert');\n",
              "        buttonEl.style.display =\n",
              "          google.colab.kernel.accessAllowed ? 'block' : 'none';\n",
              "\n",
              "        async function convertToInteractive(key) {\n",
              "          const element = document.querySelector('#df-39c6fe31-780b-4c44-9413-db3f6ed093e3');\n",
              "          const dataTable =\n",
              "            await google.colab.kernel.invokeFunction('convertToInteractive',\n",
              "                                                     [key], {});\n",
              "          if (!dataTable) return;\n",
              "\n",
              "          const docLinkHtml = 'Like what you see? Visit the ' +\n",
              "            '<a target=\"_blank\" href=https://colab.research.google.com/notebooks/data_table.ipynb>data table notebook</a>'\n",
              "            + ' to learn more about interactive tables.';\n",
              "          element.innerHTML = '';\n",
              "          dataTable['output_type'] = 'display_data';\n",
              "          await google.colab.output.renderOutput(dataTable, element);\n",
              "          const docLink = document.createElement('div');\n",
              "          docLink.innerHTML = docLinkHtml;\n",
              "          element.appendChild(docLink);\n",
              "        }\n",
              "      </script>\n",
              "    </div>\n",
              "  </div>\n",
              "  "
            ]
          },
          "metadata": {},
          "execution_count": 106
        }
      ]
    },
    {
      "cell_type": "code",
      "source": [
        "Year = dataOLSnew.index.get_level_values(\"year\").to_list()\n",
        "dataOLSnew[\"Year\"] = pd.Categorical(Year)"
      ],
      "metadata": {
        "id": "umpT--sqLuvS"
      },
      "execution_count": null,
      "outputs": []
    },
    {
      "cell_type": "code",
      "source": [
        "dataOLSnew.head()"
      ],
      "metadata": {
        "colab": {
          "base_uri": "https://localhost:8080/",
          "height": 292
        },
        "id": "bsKHMB3QN7XC",
        "outputId": "811b97da-5425-4c12-da16-b619e7ab4a99"
      },
      "execution_count": null,
      "outputs": [
        {
          "output_type": "execute_result",
          "data": {
            "text/plain": [
              "              CASM_Pilot  CASM_Maintenance  CASM_Pilot2  CASM_Maintenance2  \\\n",
              "airline year                                                                 \n",
              "aa      2004    1.153816          1.074108     1.331292           1.153708   \n",
              "        2005    1.114248          1.081270     1.241548           1.169145   \n",
              "        2006    1.096469          1.135995     1.202245           1.290485   \n",
              "        2007    1.107587          1.154670     1.226748           1.333263   \n",
              "        2008    1.115502          1.336820     1.244345           1.787087   \n",
              "\n",
              "              CASM_Pilot_CASM_Maintenance    arr_flights  pc_delay  \\\n",
              "airline year                                                         \n",
              "aa      2004                     1.239323  698548.000000 -0.212083   \n",
              "        2005                     1.204803  674225.085698 -0.214352   \n",
              "        2006                     1.245584  643597.000000 -0.226171   \n",
              "        2007                     1.278897  633857.000000 -0.281024   \n",
              "        2008                     1.491225  604885.000000 -0.269950   \n",
              "\n",
              "              CASM_Pilot_change  CASM_Maintenance_change  pc_delay_change  \\\n",
              "airline year                                                                \n",
              "aa      2004                NaN                      NaN              NaN   \n",
              "        2005          -0.034293                 0.006668         0.010699   \n",
              "        2006          -0.015956                 0.050612         0.055139   \n",
              "        2007           0.010139                 0.016439         0.242528   \n",
              "        2008           0.007147                 0.157750        -0.039405   \n",
              "\n",
              "              Log_CASM_Maintenance  Log_CASM_Pilot  Year  \n",
              "airline year                                              \n",
              "aa      2004              0.071490        0.143075  2004  \n",
              "        2005              0.078136        0.108180  2005  \n",
              "        2006              0.127509        0.092095  2006  \n",
              "        2007              0.143815        0.102183  2007  \n",
              "        2008              0.290293        0.109305  2008  "
            ],
            "text/html": [
              "\n",
              "  <div id=\"df-7305ebb7-5af0-4f07-8c14-5de8fa21da23\">\n",
              "    <div class=\"colab-df-container\">\n",
              "      <div>\n",
              "<style scoped>\n",
              "    .dataframe tbody tr th:only-of-type {\n",
              "        vertical-align: middle;\n",
              "    }\n",
              "\n",
              "    .dataframe tbody tr th {\n",
              "        vertical-align: top;\n",
              "    }\n",
              "\n",
              "    .dataframe thead th {\n",
              "        text-align: right;\n",
              "    }\n",
              "</style>\n",
              "<table border=\"1\" class=\"dataframe\">\n",
              "  <thead>\n",
              "    <tr style=\"text-align: right;\">\n",
              "      <th></th>\n",
              "      <th></th>\n",
              "      <th>CASM_Pilot</th>\n",
              "      <th>CASM_Maintenance</th>\n",
              "      <th>CASM_Pilot2</th>\n",
              "      <th>CASM_Maintenance2</th>\n",
              "      <th>CASM_Pilot_CASM_Maintenance</th>\n",
              "      <th>arr_flights</th>\n",
              "      <th>pc_delay</th>\n",
              "      <th>CASM_Pilot_change</th>\n",
              "      <th>CASM_Maintenance_change</th>\n",
              "      <th>pc_delay_change</th>\n",
              "      <th>Log_CASM_Maintenance</th>\n",
              "      <th>Log_CASM_Pilot</th>\n",
              "      <th>Year</th>\n",
              "    </tr>\n",
              "    <tr>\n",
              "      <th>airline</th>\n",
              "      <th>year</th>\n",
              "      <th></th>\n",
              "      <th></th>\n",
              "      <th></th>\n",
              "      <th></th>\n",
              "      <th></th>\n",
              "      <th></th>\n",
              "      <th></th>\n",
              "      <th></th>\n",
              "      <th></th>\n",
              "      <th></th>\n",
              "      <th></th>\n",
              "      <th></th>\n",
              "      <th></th>\n",
              "    </tr>\n",
              "  </thead>\n",
              "  <tbody>\n",
              "    <tr>\n",
              "      <th rowspan=\"5\" valign=\"top\">aa</th>\n",
              "      <th>2004</th>\n",
              "      <td>1.153816</td>\n",
              "      <td>1.074108</td>\n",
              "      <td>1.331292</td>\n",
              "      <td>1.153708</td>\n",
              "      <td>1.239323</td>\n",
              "      <td>698548.000000</td>\n",
              "      <td>-0.212083</td>\n",
              "      <td>NaN</td>\n",
              "      <td>NaN</td>\n",
              "      <td>NaN</td>\n",
              "      <td>0.071490</td>\n",
              "      <td>0.143075</td>\n",
              "      <td>2004</td>\n",
              "    </tr>\n",
              "    <tr>\n",
              "      <th>2005</th>\n",
              "      <td>1.114248</td>\n",
              "      <td>1.081270</td>\n",
              "      <td>1.241548</td>\n",
              "      <td>1.169145</td>\n",
              "      <td>1.204803</td>\n",
              "      <td>674225.085698</td>\n",
              "      <td>-0.214352</td>\n",
              "      <td>-0.034293</td>\n",
              "      <td>0.006668</td>\n",
              "      <td>0.010699</td>\n",
              "      <td>0.078136</td>\n",
              "      <td>0.108180</td>\n",
              "      <td>2005</td>\n",
              "    </tr>\n",
              "    <tr>\n",
              "      <th>2006</th>\n",
              "      <td>1.096469</td>\n",
              "      <td>1.135995</td>\n",
              "      <td>1.202245</td>\n",
              "      <td>1.290485</td>\n",
              "      <td>1.245584</td>\n",
              "      <td>643597.000000</td>\n",
              "      <td>-0.226171</td>\n",
              "      <td>-0.015956</td>\n",
              "      <td>0.050612</td>\n",
              "      <td>0.055139</td>\n",
              "      <td>0.127509</td>\n",
              "      <td>0.092095</td>\n",
              "      <td>2006</td>\n",
              "    </tr>\n",
              "    <tr>\n",
              "      <th>2007</th>\n",
              "      <td>1.107587</td>\n",
              "      <td>1.154670</td>\n",
              "      <td>1.226748</td>\n",
              "      <td>1.333263</td>\n",
              "      <td>1.278897</td>\n",
              "      <td>633857.000000</td>\n",
              "      <td>-0.281024</td>\n",
              "      <td>0.010139</td>\n",
              "      <td>0.016439</td>\n",
              "      <td>0.242528</td>\n",
              "      <td>0.143815</td>\n",
              "      <td>0.102183</td>\n",
              "      <td>2007</td>\n",
              "    </tr>\n",
              "    <tr>\n",
              "      <th>2008</th>\n",
              "      <td>1.115502</td>\n",
              "      <td>1.336820</td>\n",
              "      <td>1.244345</td>\n",
              "      <td>1.787087</td>\n",
              "      <td>1.491225</td>\n",
              "      <td>604885.000000</td>\n",
              "      <td>-0.269950</td>\n",
              "      <td>0.007147</td>\n",
              "      <td>0.157750</td>\n",
              "      <td>-0.039405</td>\n",
              "      <td>0.290293</td>\n",
              "      <td>0.109305</td>\n",
              "      <td>2008</td>\n",
              "    </tr>\n",
              "  </tbody>\n",
              "</table>\n",
              "</div>\n",
              "      <button class=\"colab-df-convert\" onclick=\"convertToInteractive('df-7305ebb7-5af0-4f07-8c14-5de8fa21da23')\"\n",
              "              title=\"Convert this dataframe to an interactive table.\"\n",
              "              style=\"display:none;\">\n",
              "        \n",
              "  <svg xmlns=\"http://www.w3.org/2000/svg\" height=\"24px\"viewBox=\"0 0 24 24\"\n",
              "       width=\"24px\">\n",
              "    <path d=\"M0 0h24v24H0V0z\" fill=\"none\"/>\n",
              "    <path d=\"M18.56 5.44l.94 2.06.94-2.06 2.06-.94-2.06-.94-.94-2.06-.94 2.06-2.06.94zm-11 1L8.5 8.5l.94-2.06 2.06-.94-2.06-.94L8.5 2.5l-.94 2.06-2.06.94zm10 10l.94 2.06.94-2.06 2.06-.94-2.06-.94-.94-2.06-.94 2.06-2.06.94z\"/><path d=\"M17.41 7.96l-1.37-1.37c-.4-.4-.92-.59-1.43-.59-.52 0-1.04.2-1.43.59L10.3 9.45l-7.72 7.72c-.78.78-.78 2.05 0 2.83L4 21.41c.39.39.9.59 1.41.59.51 0 1.02-.2 1.41-.59l7.78-7.78 2.81-2.81c.8-.78.8-2.07 0-2.86zM5.41 20L4 18.59l7.72-7.72 1.47 1.35L5.41 20z\"/>\n",
              "  </svg>\n",
              "      </button>\n",
              "      \n",
              "  <style>\n",
              "    .colab-df-container {\n",
              "      display:flex;\n",
              "      flex-wrap:wrap;\n",
              "      gap: 12px;\n",
              "    }\n",
              "\n",
              "    .colab-df-convert {\n",
              "      background-color: #E8F0FE;\n",
              "      border: none;\n",
              "      border-radius: 50%;\n",
              "      cursor: pointer;\n",
              "      display: none;\n",
              "      fill: #1967D2;\n",
              "      height: 32px;\n",
              "      padding: 0 0 0 0;\n",
              "      width: 32px;\n",
              "    }\n",
              "\n",
              "    .colab-df-convert:hover {\n",
              "      background-color: #E2EBFA;\n",
              "      box-shadow: 0px 1px 2px rgba(60, 64, 67, 0.3), 0px 1px 3px 1px rgba(60, 64, 67, 0.15);\n",
              "      fill: #174EA6;\n",
              "    }\n",
              "\n",
              "    [theme=dark] .colab-df-convert {\n",
              "      background-color: #3B4455;\n",
              "      fill: #D2E3FC;\n",
              "    }\n",
              "\n",
              "    [theme=dark] .colab-df-convert:hover {\n",
              "      background-color: #434B5C;\n",
              "      box-shadow: 0px 1px 3px 1px rgba(0, 0, 0, 0.15);\n",
              "      filter: drop-shadow(0px 1px 2px rgba(0, 0, 0, 0.3));\n",
              "      fill: #FFFFFF;\n",
              "    }\n",
              "  </style>\n",
              "\n",
              "      <script>\n",
              "        const buttonEl =\n",
              "          document.querySelector('#df-7305ebb7-5af0-4f07-8c14-5de8fa21da23 button.colab-df-convert');\n",
              "        buttonEl.style.display =\n",
              "          google.colab.kernel.accessAllowed ? 'block' : 'none';\n",
              "\n",
              "        async function convertToInteractive(key) {\n",
              "          const element = document.querySelector('#df-7305ebb7-5af0-4f07-8c14-5de8fa21da23');\n",
              "          const dataTable =\n",
              "            await google.colab.kernel.invokeFunction('convertToInteractive',\n",
              "                                                     [key], {});\n",
              "          if (!dataTable) return;\n",
              "\n",
              "          const docLinkHtml = 'Like what you see? Visit the ' +\n",
              "            '<a target=\"_blank\" href=https://colab.research.google.com/notebooks/data_table.ipynb>data table notebook</a>'\n",
              "            + ' to learn more about interactive tables.';\n",
              "          element.innerHTML = '';\n",
              "          dataTable['output_type'] = 'display_data';\n",
              "          await google.colab.output.renderOutput(dataTable, element);\n",
              "          const docLink = document.createElement('div');\n",
              "          docLink.innerHTML = docLinkHtml;\n",
              "          element.appendChild(docLink);\n",
              "        }\n",
              "      </script>\n",
              "    </div>\n",
              "  </div>\n",
              "  "
            ]
          },
          "metadata": {},
          "execution_count": 108
        }
      ]
    },
    {
      "cell_type": "code",
      "source": [
        "from linearmodels import PooledOLS\n",
        "import statsmodels.api as sm"
      ],
      "metadata": {
        "id": "OJ5Er07lNd6q"
      },
      "execution_count": null,
      "outputs": []
    },
    {
      "cell_type": "code",
      "source": [
        "indep_varnew = dataOLSnew.iloc[:,[10,11]]\n",
        "dep_varnew = dataOLSnew[\"pc_delay\"]"
      ],
      "metadata": {
        "id": "L8JViuKANegZ"
      },
      "execution_count": null,
      "outputs": []
    },
    {
      "cell_type": "code",
      "source": [
        "indep_varnew = sm.add_constant(indep_varnew)"
      ],
      "metadata": {
        "id": "0w-MLkQDNsjT"
      },
      "execution_count": null,
      "outputs": []
    },
    {
      "cell_type": "code",
      "source": [
        "indep_varnew.head()"
      ],
      "metadata": {
        "colab": {
          "base_uri": "https://localhost:8080/",
          "height": 228
        },
        "id": "691ZLVnqN0KG",
        "outputId": "6795716c-d6e7-40dd-df10-5f7bf22af8e7"
      },
      "execution_count": null,
      "outputs": [
        {
          "output_type": "execute_result",
          "data": {
            "text/plain": [
              "              const  Log_CASM_Maintenance  Log_CASM_Pilot\n",
              "airline year                                             \n",
              "aa      2004    1.0              0.071490        0.143075\n",
              "        2005    1.0              0.078136        0.108180\n",
              "        2006    1.0              0.127509        0.092095\n",
              "        2007    1.0              0.143815        0.102183\n",
              "        2008    1.0              0.290293        0.109305"
            ],
            "text/html": [
              "\n",
              "  <div id=\"df-107913e0-929e-4f2e-9eed-183368c22f31\">\n",
              "    <div class=\"colab-df-container\">\n",
              "      <div>\n",
              "<style scoped>\n",
              "    .dataframe tbody tr th:only-of-type {\n",
              "        vertical-align: middle;\n",
              "    }\n",
              "\n",
              "    .dataframe tbody tr th {\n",
              "        vertical-align: top;\n",
              "    }\n",
              "\n",
              "    .dataframe thead th {\n",
              "        text-align: right;\n",
              "    }\n",
              "</style>\n",
              "<table border=\"1\" class=\"dataframe\">\n",
              "  <thead>\n",
              "    <tr style=\"text-align: right;\">\n",
              "      <th></th>\n",
              "      <th></th>\n",
              "      <th>const</th>\n",
              "      <th>Log_CASM_Maintenance</th>\n",
              "      <th>Log_CASM_Pilot</th>\n",
              "    </tr>\n",
              "    <tr>\n",
              "      <th>airline</th>\n",
              "      <th>year</th>\n",
              "      <th></th>\n",
              "      <th></th>\n",
              "      <th></th>\n",
              "    </tr>\n",
              "  </thead>\n",
              "  <tbody>\n",
              "    <tr>\n",
              "      <th rowspan=\"5\" valign=\"top\">aa</th>\n",
              "      <th>2004</th>\n",
              "      <td>1.0</td>\n",
              "      <td>0.071490</td>\n",
              "      <td>0.143075</td>\n",
              "    </tr>\n",
              "    <tr>\n",
              "      <th>2005</th>\n",
              "      <td>1.0</td>\n",
              "      <td>0.078136</td>\n",
              "      <td>0.108180</td>\n",
              "    </tr>\n",
              "    <tr>\n",
              "      <th>2006</th>\n",
              "      <td>1.0</td>\n",
              "      <td>0.127509</td>\n",
              "      <td>0.092095</td>\n",
              "    </tr>\n",
              "    <tr>\n",
              "      <th>2007</th>\n",
              "      <td>1.0</td>\n",
              "      <td>0.143815</td>\n",
              "      <td>0.102183</td>\n",
              "    </tr>\n",
              "    <tr>\n",
              "      <th>2008</th>\n",
              "      <td>1.0</td>\n",
              "      <td>0.290293</td>\n",
              "      <td>0.109305</td>\n",
              "    </tr>\n",
              "  </tbody>\n",
              "</table>\n",
              "</div>\n",
              "      <button class=\"colab-df-convert\" onclick=\"convertToInteractive('df-107913e0-929e-4f2e-9eed-183368c22f31')\"\n",
              "              title=\"Convert this dataframe to an interactive table.\"\n",
              "              style=\"display:none;\">\n",
              "        \n",
              "  <svg xmlns=\"http://www.w3.org/2000/svg\" height=\"24px\"viewBox=\"0 0 24 24\"\n",
              "       width=\"24px\">\n",
              "    <path d=\"M0 0h24v24H0V0z\" fill=\"none\"/>\n",
              "    <path d=\"M18.56 5.44l.94 2.06.94-2.06 2.06-.94-2.06-.94-.94-2.06-.94 2.06-2.06.94zm-11 1L8.5 8.5l.94-2.06 2.06-.94-2.06-.94L8.5 2.5l-.94 2.06-2.06.94zm10 10l.94 2.06.94-2.06 2.06-.94-2.06-.94-.94-2.06-.94 2.06-2.06.94z\"/><path d=\"M17.41 7.96l-1.37-1.37c-.4-.4-.92-.59-1.43-.59-.52 0-1.04.2-1.43.59L10.3 9.45l-7.72 7.72c-.78.78-.78 2.05 0 2.83L4 21.41c.39.39.9.59 1.41.59.51 0 1.02-.2 1.41-.59l7.78-7.78 2.81-2.81c.8-.78.8-2.07 0-2.86zM5.41 20L4 18.59l7.72-7.72 1.47 1.35L5.41 20z\"/>\n",
              "  </svg>\n",
              "      </button>\n",
              "      \n",
              "  <style>\n",
              "    .colab-df-container {\n",
              "      display:flex;\n",
              "      flex-wrap:wrap;\n",
              "      gap: 12px;\n",
              "    }\n",
              "\n",
              "    .colab-df-convert {\n",
              "      background-color: #E8F0FE;\n",
              "      border: none;\n",
              "      border-radius: 50%;\n",
              "      cursor: pointer;\n",
              "      display: none;\n",
              "      fill: #1967D2;\n",
              "      height: 32px;\n",
              "      padding: 0 0 0 0;\n",
              "      width: 32px;\n",
              "    }\n",
              "\n",
              "    .colab-df-convert:hover {\n",
              "      background-color: #E2EBFA;\n",
              "      box-shadow: 0px 1px 2px rgba(60, 64, 67, 0.3), 0px 1px 3px 1px rgba(60, 64, 67, 0.15);\n",
              "      fill: #174EA6;\n",
              "    }\n",
              "\n",
              "    [theme=dark] .colab-df-convert {\n",
              "      background-color: #3B4455;\n",
              "      fill: #D2E3FC;\n",
              "    }\n",
              "\n",
              "    [theme=dark] .colab-df-convert:hover {\n",
              "      background-color: #434B5C;\n",
              "      box-shadow: 0px 1px 3px 1px rgba(0, 0, 0, 0.15);\n",
              "      filter: drop-shadow(0px 1px 2px rgba(0, 0, 0, 0.3));\n",
              "      fill: #FFFFFF;\n",
              "    }\n",
              "  </style>\n",
              "\n",
              "      <script>\n",
              "        const buttonEl =\n",
              "          document.querySelector('#df-107913e0-929e-4f2e-9eed-183368c22f31 button.colab-df-convert');\n",
              "        buttonEl.style.display =\n",
              "          google.colab.kernel.accessAllowed ? 'block' : 'none';\n",
              "\n",
              "        async function convertToInteractive(key) {\n",
              "          const element = document.querySelector('#df-107913e0-929e-4f2e-9eed-183368c22f31');\n",
              "          const dataTable =\n",
              "            await google.colab.kernel.invokeFunction('convertToInteractive',\n",
              "                                                     [key], {});\n",
              "          if (!dataTable) return;\n",
              "\n",
              "          const docLinkHtml = 'Like what you see? Visit the ' +\n",
              "            '<a target=\"_blank\" href=https://colab.research.google.com/notebooks/data_table.ipynb>data table notebook</a>'\n",
              "            + ' to learn more about interactive tables.';\n",
              "          element.innerHTML = '';\n",
              "          dataTable['output_type'] = 'display_data';\n",
              "          await google.colab.output.renderOutput(dataTable, element);\n",
              "          const docLink = document.createElement('div');\n",
              "          docLink.innerHTML = docLinkHtml;\n",
              "          element.appendChild(docLink);\n",
              "        }\n",
              "      </script>\n",
              "    </div>\n",
              "  </div>\n",
              "  "
            ]
          },
          "metadata": {},
          "execution_count": 112
        }
      ]
    },
    {
      "cell_type": "code",
      "source": [
        "mod = PooledOLS(dep_varnew, indep_varnew)\n",
        "pooledOLS_res = mod.fit(cov_type='clustered', cluster_entity=True)"
      ],
      "metadata": {
        "id": "rioa9GWpLuxW"
      },
      "execution_count": null,
      "outputs": []
    },
    {
      "cell_type": "code",
      "source": [
        "print(\"Summary for PooledOLS is:\", pooledOLS_res.summary)"
      ],
      "metadata": {
        "colab": {
          "base_uri": "https://localhost:8080/"
        },
        "id": "MhxdvDk9LuzH",
        "outputId": "7be8dcab-c36e-4935-a9de-6523ced324fb"
      },
      "execution_count": null,
      "outputs": [
        {
          "output_type": "stream",
          "name": "stdout",
          "text": [
            "Summary for PooledOLS is:                           PooledOLS Estimation Summary                          \n",
            "================================================================================\n",
            "Dep. Variable:               pc_delay   R-squared:                        0.2873\n",
            "Estimator:                  PooledOLS   R-squared (Between):              0.3821\n",
            "No. Observations:                  85   R-squared (Within):               0.2752\n",
            "Date:                Thu, May 05 2022   R-squared (Overall):              0.2873\n",
            "Time:                        04:37:06   Log-likelihood                    156.63\n",
            "Cov. Estimator:             Clustered                                           \n",
            "                                        F-statistic:                      16.526\n",
            "Entities:                           5   P-value                           0.0000\n",
            "Avg Obs:                       17.000   Distribution:                    F(2,82)\n",
            "Min Obs:                       17.000                                           \n",
            "Max Obs:                       17.000   F-statistic (robust):             45.428\n",
            "                                        P-value                           0.0000\n",
            "Time periods:                      17   Distribution:                    F(2,82)\n",
            "Avg Obs:                       5.0000                                           \n",
            "Min Obs:                       5.0000                                           \n",
            "Max Obs:                       5.0000                                           \n",
            "                                                                                \n",
            "                                  Parameter Estimates                                   \n",
            "========================================================================================\n",
            "                      Parameter  Std. Err.     T-stat    P-value    Lower CI    Upper CI\n",
            "----------------------------------------------------------------------------------------\n",
            "const                   -0.2020     0.0066    -30.568     0.0000     -0.2151     -0.1888\n",
            "Log_CASM_Maintenance    -0.0288     0.0214    -1.3487     0.1811     -0.0713      0.0137\n",
            "Log_CASM_Pilot           0.0796     0.0099     8.0397     0.0000      0.0599      0.0993\n",
            "========================================================================================\n"
          ]
        }
      ]
    },
    {
      "cell_type": "markdown",
      "source": [
        "#### **Inference**:\n",
        "•\tModel is significant with p-value <0.05\n",
        "\n",
        "•\tLog Pilot CASM has a positive effect on Pc Delay \n",
        "\n",
        "•\tLog Maintenance CASM has a negative effect on Pc Delay\n",
        "\n",
        "•\tPooled OLS model is indicating miss-specification of the regression model for the problem at hand. We may be doing better with Fixed Effects or Random Effects model.\n",
        "\n"
      ],
      "metadata": {
        "id": "NifxtHVAw3Qi"
      }
    },
    {
      "cell_type": "code",
      "source": [
        "# Store values for checking homoskedasticity graphically\n",
        "fittedvals_pooled_OLS = pooledOLS_res.predict().fitted_values\n",
        "residuals_pooled_OLS = pooledOLS_res.resids"
      ],
      "metadata": {
        "id": "Ujb5yjoXOxku"
      },
      "execution_count": null,
      "outputs": []
    },
    {
      "cell_type": "code",
      "source": [
        "# Check for Homoskedasticity\n",
        "import matplotlib.pyplot as plt\n",
        "\n",
        "# Residuals-Plot for growing Variance Detection\n",
        "fig, ax = plt.subplots()\n",
        "ax.scatter(fittedvals_pooled_OLS, residuals_pooled_OLS, color = \"blue\")\n",
        "ax.axhline(0, color = 'r', ls = '--')\n",
        "ax.set_xlabel(\"Predicted Values\", fontsize = 15)\n",
        "ax.set_ylabel(\"Residuals\", fontsize = 15)\n",
        "ax.set_title(\"Homoskedasticity Test\", fontsize = 15)\n",
        "plt.show()"
      ],
      "metadata": {
        "colab": {
          "base_uri": "https://localhost:8080/",
          "height": 302
        },
        "id": "1zXJ52eBOxmy",
        "outputId": "c6109e20-c2d0-45c6-aff6-cec6702c9ef9"
      },
      "execution_count": null,
      "outputs": [
        {
          "output_type": "display_data",
          "data": {
            "text/plain": [
              "<Figure size 432x288 with 1 Axes>"
            ],
            "image/png": "[encoded data removed]"
          },
          "metadata": {
            "needs_background": "light"
          }
        }
      ]
    },
    {
      "cell_type": "markdown",
      "source": [
        "### **Inference:** \n",
        "It can be seen that the data points are spread out which is an indicator of growing variance. Hence, the model is heteroskedastic."
      ],
      "metadata": {
        "id": "QNl8dqefPdSt"
      }
    },
    {
      "cell_type": "markdown",
      "source": [
        "### 2) Fixed Effect"
      ],
      "metadata": {
        "id": "Dvyr9yOo5KiW"
      }
    },
    {
      "cell_type": "code",
      "source": [
        "# Import libraries\n",
        "from linearmodels import PanelOLS\n",
        "from linearmodels import RandomEffects"
      ],
      "metadata": {
        "id": "dXscAahVTX9_"
      },
      "execution_count": null,
      "outputs": []
    },
    {
      "cell_type": "code",
      "source": [
        "# Fixed effects model\n",
        "model_fe = PanelOLS(dep_varnew, indep_varnew, entity_effects = True) \n",
        "fe_res = model_fe.fit() \n",
        "\n",
        "#print results\n",
        "print(\"Summary for Fixed Effect model is:\", fe_res)"
      ],
      "metadata": {
        "colab": {
          "base_uri": "https://localhost:8080/"
        },
        "id": "ghKhdgyOTpsh",
        "outputId": "959a152f-c330-48d2-ec47-41e3b7a1ded3"
      },
      "execution_count": null,
      "outputs": [
        {
          "output_type": "stream",
          "name": "stdout",
          "text": [
            "Summary for Fixed Effect model is:                           PanelOLS Estimation Summary                           \n",
            "================================================================================\n",
            "Dep. Variable:               pc_delay   R-squared:                        0.3106\n",
            "Estimator:                   PanelOLS   R-squared (Between):             -0.5096\n",
            "No. Observations:                  85   R-squared (Within):               0.3106\n",
            "Date:                Thu, May 05 2022   R-squared (Overall):              0.2181\n",
            "Time:                        04:37:07   Log-likelihood                    163.13\n",
            "Cov. Estimator:            Unadjusted                                           \n",
            "                                        F-statistic:                      17.569\n",
            "Entities:                           5   P-value                           0.0000\n",
            "Avg Obs:                       17.000   Distribution:                    F(2,78)\n",
            "Min Obs:                       17.000                                           \n",
            "Max Obs:                       17.000   F-statistic (robust):             17.569\n",
            "                                        P-value                           0.0000\n",
            "Time periods:                      17   Distribution:                    F(2,78)\n",
            "Avg Obs:                       5.0000                                           \n",
            "Min Obs:                       5.0000                                           \n",
            "Max Obs:                       5.0000                                           \n",
            "                                                                                \n",
            "                                  Parameter Estimates                                   \n",
            "========================================================================================\n",
            "                      Parameter  Std. Err.     T-stat    P-value    Lower CI    Upper CI\n",
            "----------------------------------------------------------------------------------------\n",
            "const                   -0.2064     0.0057    -36.006     0.0000     -0.2178     -0.1950\n",
            "Log_CASM_Maintenance     0.0275     0.0286     0.9619     0.3391     -0.0294      0.0844\n",
            "Log_CASM_Pilot           0.0693     0.0151     4.5932     0.0000      0.0393      0.0993\n",
            "========================================================================================\n",
            "\n",
            "F-test for Poolability: 3.2211\n",
            "P-value: 0.0168\n",
            "Distribution: F(4,78)\n",
            "\n",
            "Included effects: Entity\n"
          ]
        }
      ]
    },
    {
      "cell_type": "markdown",
      "source": [
        "### **Inference:** \n",
        "\n",
        "•\tModel is significant with p-value <0.05\n",
        "\n",
        "•\tLog Pilot CASM has a significant positive effect on Percent delay.\n",
        "\n",
        "•\tLog Maintenance CASM has a positive effect on Percent delay but is not significant.\n"
      ],
      "metadata": {
        "id": "A0yL_z9g0HSt"
      }
    },
    {
      "cell_type": "markdown",
      "source": [
        "### 3) Random Effect"
      ],
      "metadata": {
        "id": "VeF2dfVbViKC"
      }
    },
    {
      "cell_type": "code",
      "source": [
        "# Random effects model\n",
        "model_re = RandomEffects(dep_varnew, indep_varnew) \n",
        "re_res = model_re.fit() \n",
        "\n",
        "#print results\n",
        "print(\"Summary for Random Effect model is:\", fe_res)\n"
      ],
      "metadata": {
        "colab": {
          "base_uri": "https://localhost:8080/"
        },
        "id": "iK3jZpx1TYB8",
        "outputId": "ebda9530-8990-44d6-a874-de6e0fba6921"
      },
      "execution_count": null,
      "outputs": [
        {
          "output_type": "stream",
          "name": "stdout",
          "text": [
            "Summary for Random Effect model is:                           PanelOLS Estimation Summary                           \n",
            "================================================================================\n",
            "Dep. Variable:               pc_delay   R-squared:                        0.3106\n",
            "Estimator:                   PanelOLS   R-squared (Between):             -0.5096\n",
            "No. Observations:                  85   R-squared (Within):               0.3106\n",
            "Date:                Thu, May 05 2022   R-squared (Overall):              0.2181\n",
            "Time:                        04:37:07   Log-likelihood                    163.13\n",
            "Cov. Estimator:            Unadjusted                                           \n",
            "                                        F-statistic:                      17.569\n",
            "Entities:                           5   P-value                           0.0000\n",
            "Avg Obs:                       17.000   Distribution:                    F(2,78)\n",
            "Min Obs:                       17.000                                           \n",
            "Max Obs:                       17.000   F-statistic (robust):             17.569\n",
            "                                        P-value                           0.0000\n",
            "Time periods:                      17   Distribution:                    F(2,78)\n",
            "Avg Obs:                       5.0000                                           \n",
            "Min Obs:                       5.0000                                           \n",
            "Max Obs:                       5.0000                                           \n",
            "                                                                                \n",
            "                                  Parameter Estimates                                   \n",
            "========================================================================================\n",
            "                      Parameter  Std. Err.     T-stat    P-value    Lower CI    Upper CI\n",
            "----------------------------------------------------------------------------------------\n",
            "const                   -0.2064     0.0057    -36.006     0.0000     -0.2178     -0.1950\n",
            "Log_CASM_Maintenance     0.0275     0.0286     0.9619     0.3391     -0.0294      0.0844\n",
            "Log_CASM_Pilot           0.0693     0.0151     4.5932     0.0000      0.0393      0.0993\n",
            "========================================================================================\n",
            "\n",
            "F-test for Poolability: 3.2211\n",
            "P-value: 0.0168\n",
            "Distribution: F(4,78)\n",
            "\n",
            "Included effects: Entity\n"
          ]
        }
      ]
    },
    {
      "cell_type": "markdown",
      "source": [
        "### **Inference:** \n",
        "\n",
        "1) We see that this model is resulting the same as Fixed effect model\n",
        "\n",
        "2) Hence, by comparing all the three models, we say that Fixed effect model is best suitable for this study."
      ],
      "metadata": {
        "id": "w02sPR57YSB8"
      }
    },
    {
      "cell_type": "markdown",
      "source": [
        "### Conclusion:\n",
        "\n",
        "There is clear indication of effect of On-time performance on both the Pilot Cost(CASM) and Maintenance Cost(CASM). Therefore, we reject null hypothesis "
      ],
      "metadata": {
        "id": "ZIEuOJd7042j"
      }
    }
  ]
}